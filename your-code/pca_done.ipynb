{
 "cells": [
  {
   "cell_type": "markdown",
   "metadata": {},
   "source": [
    "# Before your start:\n",
    "- Read the README.md file\n",
    "- Comment as much as you can and use the resources (README.md file)\n",
    "- Happy learning!"
   ]
  },
  {
   "cell_type": "code",
   "execution_count": 2,
   "metadata": {},
   "outputs": [],
   "source": [
    "# Run this code:\n",
    "\n",
    "%matplotlib inline\n",
    "\n",
    "import matplotlib.pyplot as plt"
   ]
  },
  {
   "cell_type": "code",
   "execution_count": 3,
   "metadata": {},
   "outputs": [],
   "source": [
    "# Import numpy and pandas:\n",
    "import numpy as np\n",
    "import pandas as pd\n",
    "import pandas as pd\n",
    "import numpy as np\n",
    "from sklearn.preprocessing import StandardScaler, MinMaxScaler  # normalizacion\n",
    "from sklearn.decomposition import PCA\n",
    "import warnings\n",
    "warnings.simplefilter('ignore')\n",
    "import pylab as plt"
   ]
  },
  {
   "cell_type": "markdown",
   "metadata": {},
   "source": [
    "# Challenge 1 - Reading and Standardizing the Data\n",
    "\n",
    "In this challenge we will work with image data and reduce the dimensions of the data to create a 2 dimensional plot. While we have not worked much with image data before, it can be represented as a numpy array where each pixel is assigned a numeric value. In this lesson, we will look at a dataset of cats and a dataset of dogs and see whether reducing them to two dimensions allows us to see if the data is separable. We will start by loading and processing the data. Run the cell below to load the two csv files and convert them into numpy arrays."
   ]
  },
  {
   "cell_type": "code",
   "execution_count": 4,
   "metadata": {},
   "outputs": [],
   "source": [
    "# Run this code\n",
    "\n",
    "cats = np.array(pd.read_csv(\"https://raw.githubusercontent.com/bioramble/pca/master/cat.csv\", header=None))\n",
    "dogs = np.array(pd.read_csv(\"https://raw.githubusercontent.com/bioramble/pca/master/dog.csv\", header=None))"
   ]
  },
  {
   "cell_type": "markdown",
   "metadata": {},
   "source": [
    "Next, we'll examine the shape of both the cats and the dogs arrays. Print out both shapes below."
   ]
  },
  {
   "cell_type": "code",
   "execution_count": 5,
   "metadata": {},
   "outputs": [
    {
     "name": "stdout",
     "output_type": "stream",
     "text": [
      "(4096, 80)\n"
     ]
    },
    {
     "data": {
      "text/plain": [
       "array([0.29692064, 0.10618297, 0.06926651, 0.05826662, 0.04927117,\n",
       "       0.02913239, 0.02763316, 0.0216375 , 0.01996833, 0.0185369 ,\n",
       "       0.01636779, 0.01564792, 0.01467199, 0.01283076, 0.01232831,\n",
       "       0.0109622 , 0.01019847, 0.00995677, 0.00919288, 0.00875381,\n",
       "       0.00837324, 0.00736386, 0.00722493, 0.00686766, 0.0061169 ,\n",
       "       0.00592898, 0.00578529, 0.00563989, 0.00547983, 0.00532828,\n",
       "       0.00476473, 0.0046599 , 0.00464683, 0.00435911, 0.00428883,\n",
       "       0.00406436, 0.00398831, 0.00393689, 0.00363447, 0.00345328,\n",
       "       0.00344564, 0.00336795, 0.00323876, 0.00321544, 0.00305099,\n",
       "       0.00290125, 0.00281887, 0.00276815, 0.00271831, 0.00257333,\n",
       "       0.00253641, 0.00249544, 0.00236989, 0.00224778, 0.00217525,\n",
       "       0.00213091, 0.00201735, 0.00194405, 0.00190167, 0.00181832,\n",
       "       0.00175344, 0.00168538, 0.00164038, 0.00156851, 0.00154314,\n",
       "       0.00143773, 0.00136113, 0.0013358 , 0.00128115, 0.00125538,\n",
       "       0.00121493, 0.00118718, 0.00109509, 0.00104933, 0.00104582,\n",
       "       0.00098481, 0.00088885, 0.0008519 , 0.00076366, 0.00068792])"
      ]
     },
     "execution_count": 5,
     "metadata": {},
     "output_type": "execute_result"
    }
   ],
   "source": [
    "# Your code here:\n",
    "pca=PCA()\n",
    "\n",
    "pca.fit(cats)\n",
    "\n",
    "print(cats.shape)\n",
    "\n",
    "pca.explained_variance_ratio_"
   ]
  },
  {
   "cell_type": "code",
   "execution_count": 6,
   "metadata": {},
   "outputs": [
    {
     "data": {
      "text/html": [
       "<div>\n",
       "<style scoped>\n",
       "    .dataframe tbody tr th:only-of-type {\n",
       "        vertical-align: middle;\n",
       "    }\n",
       "\n",
       "    .dataframe tbody tr th {\n",
       "        vertical-align: top;\n",
       "    }\n",
       "\n",
       "    .dataframe thead th {\n",
       "        text-align: right;\n",
       "    }\n",
       "</style>\n",
       "<table border=\"1\" class=\"dataframe\">\n",
       "  <thead>\n",
       "    <tr style=\"text-align: right;\">\n",
       "      <th></th>\n",
       "      <th>0</th>\n",
       "      <th>1</th>\n",
       "      <th>2</th>\n",
       "      <th>3</th>\n",
       "    </tr>\n",
       "  </thead>\n",
       "  <tbody>\n",
       "    <tr>\n",
       "      <th>0</th>\n",
       "      <td>549.164637</td>\n",
       "      <td>-279.313851</td>\n",
       "      <td>5.990704</td>\n",
       "      <td>-71.657224</td>\n",
       "    </tr>\n",
       "    <tr>\n",
       "      <th>1</th>\n",
       "      <td>576.960463</td>\n",
       "      <td>-199.053110</td>\n",
       "      <td>-18.999406</td>\n",
       "      <td>-69.222395</td>\n",
       "    </tr>\n",
       "    <tr>\n",
       "      <th>2</th>\n",
       "      <td>565.383226</td>\n",
       "      <td>-189.235890</td>\n",
       "      <td>-41.069286</td>\n",
       "      <td>-75.399488</td>\n",
       "    </tr>\n",
       "    <tr>\n",
       "      <th>3</th>\n",
       "      <td>568.038437</td>\n",
       "      <td>-187.645266</td>\n",
       "      <td>-27.138136</td>\n",
       "      <td>-89.207300</td>\n",
       "    </tr>\n",
       "    <tr>\n",
       "      <th>4</th>\n",
       "      <td>588.648470</td>\n",
       "      <td>-178.685673</td>\n",
       "      <td>2.048711</td>\n",
       "      <td>-63.087477</td>\n",
       "    </tr>\n",
       "  </tbody>\n",
       "</table>\n",
       "</div>"
      ],
      "text/plain": [
       "            0           1          2          3\n",
       "0  549.164637 -279.313851   5.990704 -71.657224\n",
       "1  576.960463 -199.053110 -18.999406 -69.222395\n",
       "2  565.383226 -189.235890 -41.069286 -75.399488\n",
       "3  568.038437 -187.645266 -27.138136 -89.207300\n",
       "4  588.648470 -178.685673   2.048711 -63.087477"
      ]
     },
     "execution_count": 6,
     "metadata": {},
     "output_type": "execute_result"
    }
   ],
   "source": [
    "pca=PCA(n_components=4)\n",
    "\n",
    "df=pd.DataFrame(pca.fit_transform(cats))\n",
    "\n",
    "df.head()"
   ]
  },
  {
   "cell_type": "code",
   "execution_count": 7,
   "metadata": {},
   "outputs": [
    {
     "name": "stdout",
     "output_type": "stream",
     "text": [
      "(4096, 80)\n"
     ]
    },
    {
     "data": {
      "text/plain": [
       "array([0.20385858, 0.11209942, 0.07160898, 0.04677827, 0.04129241,\n",
       "       0.03610473, 0.03370906, 0.0304889 , 0.02706438, 0.02506838,\n",
       "       0.02296057, 0.01946898, 0.01755647, 0.01701874, 0.01541194,\n",
       "       0.01399653, 0.01290909, 0.01278773, 0.01156911, 0.01131166,\n",
       "       0.00961381, 0.00952488, 0.00879229, 0.00840909, 0.00801781,\n",
       "       0.00761435, 0.00731116, 0.00706796, 0.00694736, 0.00675753,\n",
       "       0.00644719, 0.00621015, 0.00554844, 0.00533423, 0.00528026,\n",
       "       0.00468482, 0.004565  , 0.00441945, 0.00436345, 0.00418507,\n",
       "       0.00412079, 0.00389371, 0.00383541, 0.00369368, 0.00343922,\n",
       "       0.0032849 , 0.00316071, 0.00302552, 0.00297829, 0.00284286,\n",
       "       0.00277594, 0.00270495, 0.00259294, 0.00247563, 0.0024259 ,\n",
       "       0.00235977, 0.0023212 , 0.00221001, 0.0020958 , 0.00200493,\n",
       "       0.00194543, 0.00192003, 0.00178685, 0.00173805, 0.00164882,\n",
       "       0.00160757, 0.00154067, 0.00149031, 0.00145219, 0.0014011 ,\n",
       "       0.0013153 , 0.00128549, 0.0012492 , 0.00121167, 0.0011977 ,\n",
       "       0.00112925, 0.00102273, 0.00099858, 0.00093081, 0.00072786])"
      ]
     },
     "execution_count": 7,
     "metadata": {},
     "output_type": "execute_result"
    }
   ],
   "source": [
    "pca=PCA()\n",
    "\n",
    "pca.fit(dogs)\n",
    "\n",
    "print(dogs.shape)\n",
    "\n",
    "pca.explained_variance_ratio_"
   ]
  },
  {
   "cell_type": "code",
   "execution_count": 8,
   "metadata": {},
   "outputs": [
    {
     "data": {
      "text/html": [
       "<div>\n",
       "<style scoped>\n",
       "    .dataframe tbody tr th:only-of-type {\n",
       "        vertical-align: middle;\n",
       "    }\n",
       "\n",
       "    .dataframe tbody tr th {\n",
       "        vertical-align: top;\n",
       "    }\n",
       "\n",
       "    .dataframe thead th {\n",
       "        text-align: right;\n",
       "    }\n",
       "</style>\n",
       "<table border=\"1\" class=\"dataframe\">\n",
       "  <thead>\n",
       "    <tr style=\"text-align: right;\">\n",
       "      <th></th>\n",
       "      <th>0</th>\n",
       "      <th>1</th>\n",
       "      <th>2</th>\n",
       "      <th>3</th>\n",
       "    </tr>\n",
       "  </thead>\n",
       "  <tbody>\n",
       "    <tr>\n",
       "      <th>0</th>\n",
       "      <td>-504.010913</td>\n",
       "      <td>317.956771</td>\n",
       "      <td>-85.374834</td>\n",
       "      <td>-24.255961</td>\n",
       "    </tr>\n",
       "    <tr>\n",
       "      <th>1</th>\n",
       "      <td>-508.323351</td>\n",
       "      <td>313.411971</td>\n",
       "      <td>-90.669130</td>\n",
       "      <td>-22.124030</td>\n",
       "    </tr>\n",
       "    <tr>\n",
       "      <th>2</th>\n",
       "      <td>-521.331514</td>\n",
       "      <td>317.246238</td>\n",
       "      <td>-94.182618</td>\n",
       "      <td>-33.521349</td>\n",
       "    </tr>\n",
       "    <tr>\n",
       "      <th>3</th>\n",
       "      <td>-523.329540</td>\n",
       "      <td>314.584051</td>\n",
       "      <td>-82.700899</td>\n",
       "      <td>-37.655902</td>\n",
       "    </tr>\n",
       "    <tr>\n",
       "      <th>4</th>\n",
       "      <td>-512.986821</td>\n",
       "      <td>305.590362</td>\n",
       "      <td>-80.789799</td>\n",
       "      <td>-38.114920</td>\n",
       "    </tr>\n",
       "  </tbody>\n",
       "</table>\n",
       "</div>"
      ],
      "text/plain": [
       "            0           1          2          3\n",
       "0 -504.010913  317.956771 -85.374834 -24.255961\n",
       "1 -508.323351  313.411971 -90.669130 -22.124030\n",
       "2 -521.331514  317.246238 -94.182618 -33.521349\n",
       "3 -523.329540  314.584051 -82.700899 -37.655902\n",
       "4 -512.986821  305.590362 -80.789799 -38.114920"
      ]
     },
     "execution_count": 8,
     "metadata": {},
     "output_type": "execute_result"
    }
   ],
   "source": [
    "pca=PCA(n_components=4)\n",
    "\n",
    "df=pd.DataFrame(pca.fit_transform(dogs))\n",
    "\n",
    "df.head()"
   ]
  },
  {
   "cell_type": "markdown",
   "metadata": {},
   "source": [
    "What this means is that both arrays contain 80 images each (the number of columns). Each image is comprised of 64x64 pixels (so a total of 4096 pixels per image). The images have been flattened such that all 4096 are in a single row.\n",
    "\n",
    "Print out column 0 of the cats array to see what the pixels values look like."
   ]
  },
  {
   "cell_type": "code",
   "execution_count": 9,
   "metadata": {},
   "outputs": [
    {
     "data": {
      "text/plain": [
       "array([ 64,  23, 250, 137,  55, 173,  18, 134,  19,  47, 109, 164,  41,\n",
       "        78, 108, 108, 247, 105, 158,  54, 103,   4,  23, 102, 239,  72,\n",
       "        42,  21, 168, 109, 112, 177,  22, 233,  15, 236, 250, 137,  32,\n",
       "         5, 178, 109,  24, 107,  53, 241, 226, 143,   5, 136,  98, 100,\n",
       "        89,  66, 228,  92, 255,  88, 230,  56, 160,  69,   6,  24, 195,\n",
       "       183, 239,  35, 154, 154, 122,  18,  87, 106, 174,  69,  28,  60,\n",
       "       223, 101])"
      ]
     },
     "execution_count": 9,
     "metadata": {},
     "output_type": "execute_result"
    }
   ],
   "source": [
    "# Your code here:\n",
    "cats[0]"
   ]
  },
  {
   "cell_type": "markdown",
   "metadata": {},
   "source": [
    "Using `matplotlib` we can plot a single cat or a single dog. We do this by reshaping the vector back to a 64x64 image and then using the `imshow` function.\n",
    "\n",
    "Run the code below to look at the first dog and the first cat."
   ]
  },
  {
   "cell_type": "code",
   "execution_count": 10,
   "metadata": {},
   "outputs": [
    {
     "data": {
      "text/plain": [
       "<matplotlib.image.AxesImage at 0x7ff2087f8100>"
      ]
     },
     "execution_count": 10,
     "metadata": {},
     "output_type": "execute_result"
    },
    {
     "data": {
      "image/png": "[encoded data removed]",
      "text/plain": [
       "<Figure size 432x288 with 1 Axes>"
      ]
     },
     "metadata": {
      "needs_background": "light"
     },
     "output_type": "display_data"
    }
   ],
   "source": [
    "# Run this code:\n",
    "fig, ax = plt.subplots()\n",
    "ax.imshow(cats[:,0].reshape(64, 64).T, cmap=plt.cm.bone, interpolation='nearest') "
   ]
  },
  {
   "cell_type": "code",
   "execution_count": 11,
   "metadata": {},
   "outputs": [
    {
     "data": {
      "text/plain": [
       "<matplotlib.image.AxesImage at 0x7ff208731f40>"
      ]
     },
     "execution_count": 11,
     "metadata": {},
     "output_type": "execute_result"
    },
    {
     "data": {
      "image/png": "[encoded data removed]",
      "text/plain": [
       "<Figure size 432x288 with 1 Axes>"
      ]
     },
     "metadata": {
      "needs_background": "light"
     },
     "output_type": "display_data"
    }
   ],
   "source": [
    "# Run this code:\n",
    "\n",
    "fig, ax = plt.subplots()\n",
    "ax.imshow(dogs[:,0].reshape(64, 64).T, cmap=plt.cm.bone, interpolation='nearest') "
   ]
  },
  {
   "cell_type": "markdown",
   "metadata": {},
   "source": [
    "Next, we would like to create a standardization function. This function will find the mean and standard deviation of each image. We subtract the mean from each pixel and divide each pixel by the standard deviation. Write the function below.\n",
    "\n",
    "Hint: To find the mean and standard deviation of each image, use `numpy`'s version of mean and stadnard deviation and use `axis=0`."
   ]
  },
  {
   "cell_type": "code",
   "execution_count": 12,
   "metadata": {},
   "outputs": [],
   "source": [
    "from sklearn.preprocessing import StandardScaler"
   ]
  },
  {
   "cell_type": "code",
   "execution_count": 13,
   "metadata": {},
   "outputs": [],
   "source": [
    "def standardize(X):\n",
    "    scaler = StandardScaler()\n",
    "    scaled_data = scaler.fit_transform(X)\n",
    "    return scaled_data\n",
    "    #This function takes as input a numpy array and returns a stadardized numpy array of the same dimensions.\n",
    "    #Sample input: np.array([[1,2,3],[4,5,6]])\n",
    "    #Sample output: np.array([[-1,-1,-1],[1,1,1]])\n",
    "    \n",
    "  \n",
    "    "
   ]
  },
  {
   "cell_type": "code",
   "execution_count": 14,
   "metadata": {},
   "outputs": [
    {
     "data": {
      "text/plain": [
       "array([[-1., -1., -1.],\n",
       "       [ 1.,  1.,  1.]])"
      ]
     },
     "execution_count": 14,
     "metadata": {},
     "output_type": "execute_result"
    }
   ],
   "source": [
    "standardize([[1,2,3],[4,5,6]])"
   ]
  },
  {
   "cell_type": "markdown",
   "metadata": {},
   "source": [
    "Now, use the `np.concatenate` function to combine the cats and dogs arrays. Use `axis=1` to combine the two correctly. Make sure to put dogs first."
   ]
  },
  {
   "cell_type": "code",
   "execution_count": 15,
   "metadata": {},
   "outputs": [
    {
     "data": {
      "text/plain": [
       "array([[224, 131, 127, ...,  60, 223, 101],\n",
       "       [224, 124, 136, ...,  50, 224, 107],\n",
       "       [224, 104, 127, ...,  63, 225, 106],\n",
       "       ...,\n",
       "       [100, 104, 115, ..., 105, 180, 114],\n",
       "       [100, 124, 104, ..., 118, 182,  91],\n",
       "       [100, 124, 104, ..., 104, 177, 113]])"
      ]
     },
     "execution_count": 15,
     "metadata": {},
     "output_type": "execute_result"
    }
   ],
   "source": [
    "# Your code here:\n",
    "\n",
    "np.concatenate((dogs, cats), axis =1)"
   ]
  },
  {
   "cell_type": "code",
   "execution_count": 16,
   "metadata": {},
   "outputs": [],
   "source": [
    "# Your code here:\n",
    "catdog=np.concatenate((dogs, cats), axis =1)\n"
   ]
  },
  {
   "cell_type": "markdown",
   "metadata": {},
   "source": [
    "Standardize the concatenated array below."
   ]
  },
  {
   "cell_type": "code",
   "execution_count": 17,
   "metadata": {},
   "outputs": [
    {
     "data": {
      "text/plain": [
       "array([[ 2.37662907, -0.30753004,  0.93254857, ..., -1.80817356,\n",
       "         1.42293481, -0.20363951],\n",
       "       [ 2.37662907, -0.40500299,  1.15681724, ..., -2.06459792,\n",
       "         1.44036713, -0.05437635],\n",
       "       [ 2.37662907, -0.68349716,  0.93254857, ..., -1.73124626,\n",
       "         1.45779946, -0.07925354],\n",
       "       ...,\n",
       "       [ 0.22755315, -0.68349716,  0.63352369, ..., -0.65426398,\n",
       "         0.67334483,  0.11976401],\n",
       "       [ 0.22755315, -0.40500299,  0.35941754, ..., -0.32091232,\n",
       "         0.70820948, -0.45241144],\n",
       "       [ 0.22755315, -0.40500299,  0.35941754, ..., -0.67990641,\n",
       "         0.62104786,  0.09488681]])"
      ]
     },
     "execution_count": 17,
     "metadata": {},
     "output_type": "execute_result"
    }
   ],
   "source": [
    "standardize(catdog)"
   ]
  },
  {
   "cell_type": "code",
   "execution_count": 18,
   "metadata": {},
   "outputs": [],
   "source": [
    "standarized=standardize(catdog)"
   ]
  },
  {
   "cell_type": "markdown",
   "metadata": {},
   "source": [
    "# Challenge 2 - Using PCA\n",
    "\n",
    "Now that we have created a standardized matrix of cats and dogs, we'll find the two most important components in the data.\n",
    "\n",
    "Load the `PCA` function from `statsmodels` (read about this function [here](https://www.statsmodels.org/dev/generated/statsmodels.multivariate.pca.PCA.html)) and apply the function to our standarized data. Create a PCA model with two components."
   ]
  },
  {
   "cell_type": "code",
   "execution_count": 22,
   "metadata": {},
   "outputs": [
    {
     "name": "stdout",
     "output_type": "stream",
     "text": [
      "Requirement already satisfied: statsmodels in /home/bribas/anaconda3/lib/python3.8/site-packages (0.12.0)\n",
      "Requirement already satisfied: pandas>=0.21 in /home/bribas/anaconda3/lib/python3.8/site-packages (from statsmodels) (1.1.3)\n",
      "Requirement already satisfied: numpy>=1.15 in /home/bribas/anaconda3/lib/python3.8/site-packages (from statsmodels) (1.19.2)\n",
      "Requirement already satisfied: patsy>=0.5 in /home/bribas/anaconda3/lib/python3.8/site-packages (from statsmodels) (0.5.1)\n",
      "Requirement already satisfied: scipy>=1.1 in /home/bribas/anaconda3/lib/python3.8/site-packages (from statsmodels) (1.5.2)\n",
      "Requirement already satisfied: python-dateutil>=2.7.3 in /home/bribas/.local/lib/python3.8/site-packages (from pandas>=0.21->statsmodels) (2.8.1)\n",
      "Requirement already satisfied: pytz>=2017.2 in /home/bribas/anaconda3/lib/python3.8/site-packages (from pandas>=0.21->statsmodels) (2020.1)\n",
      "Requirement already satisfied: six in /home/bribas/anaconda3/lib/python3.8/site-packages (from patsy>=0.5->statsmodels) (1.15.0)\n"
     ]
    }
   ],
   "source": [
    "!pip install statsmodels"
   ]
  },
  {
   "cell_type": "code",
   "execution_count": 23,
   "metadata": {},
   "outputs": [
    {
     "ename": "ModuleNotFoundError",
     "evalue": "No module named 'statsmodels'",
     "output_type": "error",
     "traceback": [
      "\u001b[0;31m---------------------------------------------------------------------------\u001b[0m",
      "\u001b[0;31mModuleNotFoundError\u001b[0m                       Traceback (most recent call last)",
      "\u001b[0;32m<ipython-input-23-ceead2513b25>\u001b[0m in \u001b[0;36m<module>\u001b[0;34m\u001b[0m\n\u001b[1;32m      1\u001b[0m \u001b[0;31m# Your code here:\u001b[0m\u001b[0;34m\u001b[0m\u001b[0;34m\u001b[0m\u001b[0;34m\u001b[0m\u001b[0m\n\u001b[1;32m      2\u001b[0m \u001b[0;34m\u001b[0m\u001b[0m\n\u001b[0;32m----> 3\u001b[0;31m \u001b[0;32mimport\u001b[0m \u001b[0mstatsmodels\u001b[0m\u001b[0;34m\u001b[0m\u001b[0;34m\u001b[0m\u001b[0m\n\u001b[0m\u001b[1;32m      4\u001b[0m \u001b[0;32mfrom\u001b[0m \u001b[0mstatsmodels\u001b[0m\u001b[0;34m.\u001b[0m\u001b[0mmultivariate\u001b[0m\u001b[0;34m.\u001b[0m\u001b[0mpca\u001b[0m \u001b[0;32mimport\u001b[0m \u001b[0mPCA\u001b[0m\u001b[0;34m\u001b[0m\u001b[0;34m\u001b[0m\u001b[0m\n",
      "\u001b[0;31mModuleNotFoundError\u001b[0m: No module named 'statsmodels'"
     ]
    }
   ],
   "source": [
    "# Your code here:\n",
    "import statsmodels \n",
    "from statsmodels.multivariate.pca import PCA"
   ]
  },
  {
   "cell_type": "code",
   "execution_count": 24,
   "metadata": {},
   "outputs": [
    {
     "data": {
      "text/plain": [
       "PCA(n_components=array([[ 2.37662907, -0.30753004,  0.93254857, ..., -1.80817356,\n",
       "         1.42293481, -0.20363951],\n",
       "       [ 2.37662907, -0.40500299,  1.15681724, ..., -2.06459792,\n",
       "         1.44036713, -0.05437635],\n",
       "       [ 2.37662907, -0.68349716,  0.93254857, ..., -1.73124626,\n",
       "         1.45779946, -0.07925354],\n",
       "       ...,\n",
       "       [ 0.22755315, -0.68349716,  0.63352369, ..., -0.65426398,\n",
       "         0.67334483,  0.11976401],\n",
       "       [ 0.22755315, -0.40500299,  0.35941754, ..., -0.32091232,\n",
       "         0.70820948, -0.45241144],\n",
       "       [ 0.22755315, -0.40500299,  0.35941754, ..., -0.67990641,\n",
       "         0.62104786,  0.09488681]]))"
      ]
     },
     "execution_count": 24,
     "metadata": {},
     "output_type": "execute_result"
    }
   ],
   "source": [
    "PCA(standarized)"
   ]
  },
  {
   "cell_type": "markdown",
   "metadata": {},
   "source": [
    "Use `numpy` to find to transpose the standardized pet array. This will help us compute the projection."
   ]
  },
  {
   "cell_type": "code",
   "execution_count": 25,
   "metadata": {},
   "outputs": [
    {
     "data": {
      "text/plain": [
       "array([[ 2.37662907,  2.37662907,  2.37662907, ...,  0.22755315,\n",
       "         0.22755315,  0.22755315],\n",
       "       [-0.30753004, -0.40500299, -0.68349716, ..., -0.68349716,\n",
       "        -0.40500299, -0.40500299],\n",
       "       [ 0.93254857,  1.15681724,  0.93254857, ...,  0.63352369,\n",
       "         0.35941754,  0.35941754],\n",
       "       ...,\n",
       "       [-1.80817356, -2.06459792, -1.73124626, ..., -0.65426398,\n",
       "        -0.32091232, -0.67990641],\n",
       "       [ 1.42293481,  1.44036713,  1.45779946, ...,  0.67334483,\n",
       "         0.70820948,  0.62104786],\n",
       "       [-0.20363951, -0.05437635, -0.07925354, ...,  0.11976401,\n",
       "        -0.45241144,  0.09488681]])"
      ]
     },
     "execution_count": 25,
     "metadata": {},
     "output_type": "execute_result"
    }
   ],
   "source": [
    "# Your code here:\n",
    "np.matrix.transpose(standarized)"
   ]
  },
  {
   "cell_type": "code",
   "execution_count": 26,
   "metadata": {},
   "outputs": [],
   "source": [
    "# Your code here:\n",
    "t=np.matrix.transpose(standarized)"
   ]
  },
  {
   "cell_type": "code",
   "execution_count": 27,
   "metadata": {},
   "outputs": [],
   "source": [
    "from sklearn.decomposition import PCA"
   ]
  },
  {
   "cell_type": "code",
   "execution_count": 28,
   "metadata": {},
   "outputs": [],
   "source": [
    "pca = PCA(n_components=2)\n",
    "pca_trans=pca.fit_transform(standarized)"
   ]
  },
  {
   "cell_type": "code",
   "execution_count": 29,
   "metadata": {},
   "outputs": [],
   "source": [
    "pca_trans_array=np.array(pca_trans)"
   ]
  },
  {
   "cell_type": "markdown",
   "metadata": {},
   "source": [
    "Find the dot product of the transposed standardized pet matrix and the `factors` of the `PCA` model found above. This will be the projection onto 2 dimensions. This means that each cat and dog image will now only have two columns instead of 4096."
   ]
  },
  {
   "cell_type": "code",
   "execution_count": 30,
   "metadata": {},
   "outputs": [
    {
     "data": {
      "text/plain": [
       "array([[ 14348.51403947,  -3981.2593006 ],\n",
       "       [ 10873.02274752,   5211.51030232],\n",
       "       [ -4378.84811569,   4874.92216912],\n",
       "       [  1717.0075245 ,   8914.44325478],\n",
       "       [ 11101.88402154,  -1114.37088526],\n",
       "       [ -2968.69193118,  12223.60202878],\n",
       "       [  7483.06179211,   3579.58858105],\n",
       "       [  4833.63700607,  10566.11940232],\n",
       "       [  4191.47400104,  10471.82286494],\n",
       "       [ 13334.74078183,   -597.04231607],\n",
       "       [   118.38412331,   9615.53004526],\n",
       "       [  7355.8838965 ,   4776.32929859],\n",
       "       [  2874.48879901,   4525.68986904],\n",
       "       [ -1033.48450496,   4864.2968583 ],\n",
       "       [  6479.8425757 ,   8603.57281198],\n",
       "       [  5938.77321259,   9088.029375  ],\n",
       "       [  5412.9895775 ,   2248.4399016 ],\n",
       "       [ 13186.93810738,   5746.19288619],\n",
       "       [  6217.3937431 ,   7773.48439645],\n",
       "       [  5259.36310779,  12111.02611459],\n",
       "       [ -1224.55684338,   9684.24351177],\n",
       "       [   545.6428147 ,  10373.06371624],\n",
       "       [  3317.29733926,   4130.01631729],\n",
       "       [  4008.83806547,  11060.20432157],\n",
       "       [  9166.8985229 ,   8303.43578216],\n",
       "       [    76.79808008,  11712.34522295],\n",
       "       [ -1253.36448032,   7792.92133432],\n",
       "       [   301.47693434,   6195.38083092],\n",
       "       [  4596.55030593,  12812.53049359],\n",
       "       [  3279.02474837,   6686.88512973],\n",
       "       [  1618.3275363 ,   8292.43278341],\n",
       "       [  2496.62002787,   7304.55541227],\n",
       "       [ 10175.68550238,   7913.18352119],\n",
       "       [  4459.79673211,   9600.56757207],\n",
       "       [ -2453.70335924,  10334.52693188],\n",
       "       [  5357.58662493,   4019.74320603],\n",
       "       [ -4797.73247304,  10256.30147142],\n",
       "       [   475.36594031,   8548.30921461],\n",
       "       [ -2221.6860761 ,  11645.36367012],\n",
       "       [  9681.73484396,   5150.36971623],\n",
       "       [  5759.53695123,  10855.03638295],\n",
       "       [  3876.90017768,  -4513.32817699],\n",
       "       [ -3402.68771249,   8888.40779537],\n",
       "       [  5129.89285746,   7336.8083204 ],\n",
       "       [ -2722.85191136,   4363.92526798],\n",
       "       [  6834.33746098,  -6062.08252348],\n",
       "       [  8975.72411584,  -2271.50552214],\n",
       "       [  2350.51417608,   2165.33429942],\n",
       "       [  5151.35683088,  -3191.85468872],\n",
       "       [ -5578.66854184,   9319.56453742],\n",
       "       [  9957.54404742,  -2996.33621329],\n",
       "       [ 12384.19420853,  -7237.63084508],\n",
       "       [  2065.89275501,  -4095.95793226],\n",
       "       [ -7365.23125426,  10883.19352194],\n",
       "       [ -7290.94747218,   1344.72625815],\n",
       "       [ -4730.48420574,   1014.13343492],\n",
       "       [  9846.61148715,  -1684.84115434],\n",
       "       [  5013.19120202,  -3296.67990034],\n",
       "       [ -5624.15301619,   7272.06397275],\n",
       "       [  -699.72887617,   8205.26768144],\n",
       "       [  2615.24350215,  10581.20822591],\n",
       "       [ 10477.51871383,  -5809.03470819],\n",
       "       [ 10474.39333836,  -1491.34622242],\n",
       "       [ -7749.79935192,   -796.22482286],\n",
       "       [ -3611.8904692 ,   2412.14329613],\n",
       "       [  9229.22902873,     31.48455119],\n",
       "       [  1714.21648148,  -5943.16008263],\n",
       "       [-10885.35620454,   3089.94430164],\n",
       "       [  -777.33566372,    882.97239285],\n",
       "       [  7654.98785029,   7829.0160188 ],\n",
       "       [ -3583.33536292,   3181.29171111],\n",
       "       [  -340.30953236,   8636.10205426],\n",
       "       [  8924.04370837,   6849.44323316],\n",
       "       [ -7119.16643922,   6520.90412781],\n",
       "       [  3469.77549862,  -6771.40440858],\n",
       "       [ 13467.53784952,  -1589.17405453],\n",
       "       [ 11225.06253732,   2345.05941674],\n",
       "       [ -2797.49536487,   9367.54939168],\n",
       "       [ -1132.22317033,   8977.3780539 ],\n",
       "       [ 13177.99794457,   -724.34633966],\n",
       "       [ -5288.22177743,  -3846.21458367],\n",
       "       [-16785.39557106,   -276.0095967 ],\n",
       "       [ 16270.01004396,  -1015.14551458],\n",
       "       [ 13851.78939802,    361.36767126],\n",
       "       [-10194.47702171,  -4735.15753446],\n",
       "       [ -7049.21629105,  -8906.64169117],\n",
       "       [-13986.21248134,    802.51136034],\n",
       "       [ -1761.11819463,  -4594.98020149],\n",
       "       [-14309.8923616 ,  -2060.97073619],\n",
       "       [ -7107.81968941,  -4658.84931696],\n",
       "       [    21.97233807,  -1258.96121325],\n",
       "       [  1945.92813494,  -1193.80116658],\n",
       "       [-17497.27386964,  -2678.72017333],\n",
       "       [-10242.61546353,  -3220.40721241],\n",
       "       [  9761.44070658,  -3721.68929454],\n",
       "       [-13228.27940493,  -4448.49592042],\n",
       "       [  9780.37392739,  -2950.1342201 ],\n",
       "       [-11229.56456493,  -2833.97012049],\n",
       "       [ 14468.45333176,    213.89594167],\n",
       "       [-17092.00229176,  -1336.11156293],\n",
       "       [  3709.03986476,  -3305.85124282],\n",
       "       [-12002.49701196,    504.80334106],\n",
       "       [-11997.64943267,   3527.45739843],\n",
       "       [-11495.59260967,   8686.63555201],\n",
       "       [ 17430.58129275,  -1590.07419124],\n",
       "       [ -2377.41024483,   5857.83164731],\n",
       "       [-11805.9036971 ,  -4871.48064548],\n",
       "       [-10667.36556815,   4920.69351927],\n",
       "       [  7227.47626265,   -676.75280081],\n",
       "       [ -7056.49386319,  -2816.93908834],\n",
       "       [  -827.69207547,  -4509.3052475 ],\n",
       "       [  4180.22790346,  -4176.51680855],\n",
       "       [ -6233.48257531,  -8005.2347918 ],\n",
       "       [ 17881.12661604,  -3025.22114109],\n",
       "       [-17265.18162893,    565.43943494],\n",
       "       [ -2565.78368422,   3234.98672118],\n",
       "       [ 17052.83218394,    519.08167831],\n",
       "       [-14522.4286317 ,  -2136.85215332],\n",
       "       [ -7077.75135827,   5503.67299859],\n",
       "       [ -5248.87170857,  -3876.33959472],\n",
       "       [ -2473.65523487,  -5266.97862707],\n",
       "       [ -9167.89429668,  -4908.81840779],\n",
       "       [-18395.78575666,   3924.7665784 ],\n",
       "       [-10813.44120847,   5573.04145373],\n",
       "       [-17509.76644633,   5089.75193579],\n",
       "       [ 11302.3668122 ,  -4028.95279764],\n",
       "       [ 11510.07589649,   1220.12933926],\n",
       "       [  9694.4164588 ,  -2679.95680381],\n",
       "       [-17134.01629323,   1324.81998837],\n",
       "       [   404.94372516,  -2287.77846546],\n",
       "       [ -8433.06120979,  -4088.45319433],\n",
       "       [ -5376.37058397,   3195.48613994],\n",
       "       [-15589.91314021,  -4216.63821772],\n",
       "       [-12168.29867992,  -3578.51084581],\n",
       "       [  6274.43803881,  -5539.79289072],\n",
       "       [-13139.256     ,  -4849.39674778],\n",
       "       [-12272.45794711,  -5969.00740494],\n",
       "       [ -6590.70323759,   2501.37680548],\n",
       "       [ 11135.50821258,  -7493.70303434],\n",
       "       [ -7340.1455209 ,   9242.9182247 ],\n",
       "       [  -586.75887037,    325.61867274],\n",
       "       [ -7224.10927268,  -3839.57556598],\n",
       "       [-13343.09908776,  -2831.36801561],\n",
       "       [-14208.55735869,   2966.08239501],\n",
       "       [  8477.91983379,   -645.24245822],\n",
       "       [ -2376.70333963,  -4996.24314089],\n",
       "       [ 17235.50410054,  -2079.06060175],\n",
       "       [ -1213.02140853,    110.15807591],\n",
       "       [  7514.96555363,  -1770.78846191],\n",
       "       [ 11034.72200163,   1242.03382267],\n",
       "       [  5308.59640876,   -975.06351259],\n",
       "       [-11831.50673647,   3244.82649731],\n",
       "       [ -3711.99453239,  -3907.36196236],\n",
       "       [   677.47316921,   1036.97343168],\n",
       "       [  3745.53807379,    178.54474311],\n",
       "       [ -9083.16430734,   5162.86643642],\n",
       "       [-11127.61796817,   6407.59434299],\n",
       "       [-15434.30444799,   3475.07561183],\n",
       "       [  5767.39026758,   1036.51674456],\n",
       "       [ -2729.02753508,  -3500.99742499]])"
      ]
     },
     "execution_count": 30,
     "metadata": {},
     "output_type": "execute_result"
    }
   ],
   "source": [
    "np.dot(t, pca_trans_array)"
   ]
  },
  {
   "cell_type": "markdown",
   "metadata": {},
   "source": [
    "# Challenge 3 - Plotting the Data\n",
    "\n",
    "Now that we have reduced our cats and dogs arrays, we can easily plot the data in a way that the human eye can understand. We can look at this plot to see whether there are differences between the cat and dog images. \n",
    "\n",
    "In the cell below, turn the two dimensional projection into a pandas dataframe and name the columns `pc1`, and `pc2` respectively."
   ]
  },
  {
   "cell_type": "code",
   "execution_count": 31,
   "metadata": {},
   "outputs": [
    {
     "data": {
      "text/html": [
       "<div>\n",
       "<style scoped>\n",
       "    .dataframe tbody tr th:only-of-type {\n",
       "        vertical-align: middle;\n",
       "    }\n",
       "\n",
       "    .dataframe tbody tr th {\n",
       "        vertical-align: top;\n",
       "    }\n",
       "\n",
       "    .dataframe thead th {\n",
       "        text-align: right;\n",
       "    }\n",
       "</style>\n",
       "<table border=\"1\" class=\"dataframe\">\n",
       "  <thead>\n",
       "    <tr style=\"text-align: right;\">\n",
       "      <th></th>\n",
       "      <th>pc1</th>\n",
       "      <th>pc2</th>\n",
       "      <th>2</th>\n",
       "      <th>3</th>\n",
       "    </tr>\n",
       "  </thead>\n",
       "  <tbody>\n",
       "    <tr>\n",
       "      <th>0</th>\n",
       "      <td>-504.010913</td>\n",
       "      <td>317.956771</td>\n",
       "      <td>-85.374834</td>\n",
       "      <td>-24.255961</td>\n",
       "    </tr>\n",
       "    <tr>\n",
       "      <th>1</th>\n",
       "      <td>-508.323351</td>\n",
       "      <td>313.411971</td>\n",
       "      <td>-90.669130</td>\n",
       "      <td>-22.124030</td>\n",
       "    </tr>\n",
       "    <tr>\n",
       "      <th>2</th>\n",
       "      <td>-521.331514</td>\n",
       "      <td>317.246238</td>\n",
       "      <td>-94.182618</td>\n",
       "      <td>-33.521349</td>\n",
       "    </tr>\n",
       "    <tr>\n",
       "      <th>3</th>\n",
       "      <td>-523.329540</td>\n",
       "      <td>314.584051</td>\n",
       "      <td>-82.700899</td>\n",
       "      <td>-37.655902</td>\n",
       "    </tr>\n",
       "    <tr>\n",
       "      <th>4</th>\n",
       "      <td>-512.986821</td>\n",
       "      <td>305.590362</td>\n",
       "      <td>-80.789799</td>\n",
       "      <td>-38.114920</td>\n",
       "    </tr>\n",
       "    <tr>\n",
       "      <th>...</th>\n",
       "      <td>...</td>\n",
       "      <td>...</td>\n",
       "      <td>...</td>\n",
       "      <td>...</td>\n",
       "    </tr>\n",
       "    <tr>\n",
       "      <th>4091</th>\n",
       "      <td>-297.474499</td>\n",
       "      <td>45.593796</td>\n",
       "      <td>-144.729831</td>\n",
       "      <td>144.839110</td>\n",
       "    </tr>\n",
       "    <tr>\n",
       "      <th>4092</th>\n",
       "      <td>-272.992373</td>\n",
       "      <td>41.600957</td>\n",
       "      <td>-165.526318</td>\n",
       "      <td>136.328930</td>\n",
       "    </tr>\n",
       "    <tr>\n",
       "      <th>4093</th>\n",
       "      <td>-259.968841</td>\n",
       "      <td>56.184327</td>\n",
       "      <td>-173.032875</td>\n",
       "      <td>128.834997</td>\n",
       "    </tr>\n",
       "    <tr>\n",
       "      <th>4094</th>\n",
       "      <td>-261.734539</td>\n",
       "      <td>54.817884</td>\n",
       "      <td>-197.552756</td>\n",
       "      <td>125.322334</td>\n",
       "    </tr>\n",
       "    <tr>\n",
       "      <th>4095</th>\n",
       "      <td>-270.815234</td>\n",
       "      <td>43.737293</td>\n",
       "      <td>-206.188737</td>\n",
       "      <td>117.625653</td>\n",
       "    </tr>\n",
       "  </tbody>\n",
       "</table>\n",
       "<p>4096 rows × 4 columns</p>\n",
       "</div>"
      ],
      "text/plain": [
       "             pc1         pc2           2           3\n",
       "0    -504.010913  317.956771  -85.374834  -24.255961\n",
       "1    -508.323351  313.411971  -90.669130  -22.124030\n",
       "2    -521.331514  317.246238  -94.182618  -33.521349\n",
       "3    -523.329540  314.584051  -82.700899  -37.655902\n",
       "4    -512.986821  305.590362  -80.789799  -38.114920\n",
       "...          ...         ...         ...         ...\n",
       "4091 -297.474499   45.593796 -144.729831  144.839110\n",
       "4092 -272.992373   41.600957 -165.526318  136.328930\n",
       "4093 -259.968841   56.184327 -173.032875  128.834997\n",
       "4094 -261.734539   54.817884 -197.552756  125.322334\n",
       "4095 -270.815234   43.737293 -206.188737  117.625653\n",
       "\n",
       "[4096 rows x 4 columns]"
      ]
     },
     "execution_count": 31,
     "metadata": {},
     "output_type": "execute_result"
    }
   ],
   "source": [
    "# Your code here:\n",
    "df.head()\n",
    "df.rename(columns= {0 : 'pc1', 1: 'pc2'}, inplace = True)\n",
    "df"
   ]
  },
  {
   "cell_type": "markdown",
   "metadata": {},
   "source": [
    "Create a labels list. This list will be of size 160. The first 80 elements in the list will be the word `blue`, and the last 80 elements will be `red`. This will ensure that all dog observations will be colored in blue and all cats will be colored in red. Name this list `colors`."
   ]
  },
  {
   "cell_type": "code",
   "execution_count": 32,
   "metadata": {},
   "outputs": [
    {
     "data": {
      "text/plain": [
       "160"
      ]
     },
     "execution_count": 32,
     "metadata": {},
     "output_type": "execute_result"
    }
   ],
   "source": [
    "# Your code here:\n",
    "labels = []\n",
    "\n",
    "for i in range(80):\n",
    "    labels.append('blue')\n",
    "for i in range(80):\n",
    "    labels.append('red')\n",
    "    \n",
    "len(labels)"
   ]
  },
  {
   "cell_type": "markdown",
   "metadata": {},
   "source": [
    "Create a scatter plot of `pc1` and `pc2` below. Use the `colors` list above to color the observations by setting `c=colors`."
   ]
  },
  {
   "cell_type": "code",
   "execution_count": 34,
   "metadata": {},
   "outputs": [
    {
     "ename": "ValueError",
     "evalue": "'c' argument has 160 elements, which is inconsistent with 'x' and 'y' with size 4096.",
     "output_type": "error",
     "traceback": [
      "\u001b[0;31m---------------------------------------------------------------------------\u001b[0m",
      "\u001b[0;31mValueError\u001b[0m                                Traceback (most recent call last)",
      "\u001b[0;32m<ipython-input-34-74480a3723e1>\u001b[0m in \u001b[0;36m<module>\u001b[0;34m\u001b[0m\n\u001b[1;32m      1\u001b[0m \u001b[0;31m# Your code here:\u001b[0m\u001b[0;34m\u001b[0m\u001b[0;34m\u001b[0m\u001b[0;34m\u001b[0m\u001b[0m\n\u001b[0;32m----> 2\u001b[0;31m \u001b[0mdf\u001b[0m\u001b[0;34m.\u001b[0m\u001b[0mplot\u001b[0m\u001b[0;34m.\u001b[0m\u001b[0mscatter\u001b[0m\u001b[0;34m(\u001b[0m\u001b[0mx\u001b[0m\u001b[0;34m=\u001b[0m\u001b[0;34m'pc1'\u001b[0m\u001b[0;34m,\u001b[0m \u001b[0my\u001b[0m\u001b[0;34m=\u001b[0m\u001b[0;34m'pc2'\u001b[0m\u001b[0;34m,\u001b[0m \u001b[0mc\u001b[0m\u001b[0;34m=\u001b[0m \u001b[0mlabels\u001b[0m\u001b[0;34m)\u001b[0m\u001b[0;34m;\u001b[0m\u001b[0;34m\u001b[0m\u001b[0;34m\u001b[0m\u001b[0m\n\u001b[0m",
      "\u001b[0;32m~/anaconda3/envs/clase/lib/python3.8/site-packages/pandas/plotting/_core.py\u001b[0m in \u001b[0;36mscatter\u001b[0;34m(self, x, y, s, c, **kwargs)\u001b[0m\n\u001b[1;32m   1617\u001b[0m             ...                       colormap='viridis')\n\u001b[1;32m   1618\u001b[0m         \"\"\"\n\u001b[0;32m-> 1619\u001b[0;31m         \u001b[0;32mreturn\u001b[0m \u001b[0mself\u001b[0m\u001b[0;34m(\u001b[0m\u001b[0mkind\u001b[0m\u001b[0;34m=\u001b[0m\u001b[0;34m\"scatter\"\u001b[0m\u001b[0;34m,\u001b[0m \u001b[0mx\u001b[0m\u001b[0;34m=\u001b[0m\u001b[0mx\u001b[0m\u001b[0;34m,\u001b[0m \u001b[0my\u001b[0m\u001b[0;34m=\u001b[0m\u001b[0my\u001b[0m\u001b[0;34m,\u001b[0m \u001b[0ms\u001b[0m\u001b[0;34m=\u001b[0m\u001b[0ms\u001b[0m\u001b[0;34m,\u001b[0m \u001b[0mc\u001b[0m\u001b[0;34m=\u001b[0m\u001b[0mc\u001b[0m\u001b[0;34m,\u001b[0m \u001b[0;34m**\u001b[0m\u001b[0mkwargs\u001b[0m\u001b[0;34m)\u001b[0m\u001b[0;34m\u001b[0m\u001b[0;34m\u001b[0m\u001b[0m\n\u001b[0m\u001b[1;32m   1620\u001b[0m \u001b[0;34m\u001b[0m\u001b[0m\n\u001b[1;32m   1621\u001b[0m     \u001b[0;32mdef\u001b[0m \u001b[0mhexbin\u001b[0m\u001b[0;34m(\u001b[0m\u001b[0mself\u001b[0m\u001b[0;34m,\u001b[0m \u001b[0mx\u001b[0m\u001b[0;34m,\u001b[0m \u001b[0my\u001b[0m\u001b[0;34m,\u001b[0m \u001b[0mC\u001b[0m\u001b[0;34m=\u001b[0m\u001b[0;32mNone\u001b[0m\u001b[0;34m,\u001b[0m \u001b[0mreduce_C_function\u001b[0m\u001b[0;34m=\u001b[0m\u001b[0;32mNone\u001b[0m\u001b[0;34m,\u001b[0m \u001b[0mgridsize\u001b[0m\u001b[0;34m=\u001b[0m\u001b[0;32mNone\u001b[0m\u001b[0;34m,\u001b[0m \u001b[0;34m**\u001b[0m\u001b[0mkwargs\u001b[0m\u001b[0;34m)\u001b[0m\u001b[0;34m:\u001b[0m\u001b[0;34m\u001b[0m\u001b[0;34m\u001b[0m\u001b[0m\n",
      "\u001b[0;32m~/anaconda3/envs/clase/lib/python3.8/site-packages/pandas/plotting/_core.py\u001b[0m in \u001b[0;36m__call__\u001b[0;34m(self, *args, **kwargs)\u001b[0m\n\u001b[1;32m    898\u001b[0m         \u001b[0;32mif\u001b[0m \u001b[0mkind\u001b[0m \u001b[0;32min\u001b[0m \u001b[0mself\u001b[0m\u001b[0;34m.\u001b[0m\u001b[0m_dataframe_kinds\u001b[0m\u001b[0;34m:\u001b[0m\u001b[0;34m\u001b[0m\u001b[0;34m\u001b[0m\u001b[0m\n\u001b[1;32m    899\u001b[0m             \u001b[0;32mif\u001b[0m \u001b[0misinstance\u001b[0m\u001b[0;34m(\u001b[0m\u001b[0mdata\u001b[0m\u001b[0;34m,\u001b[0m \u001b[0mABCDataFrame\u001b[0m\u001b[0;34m)\u001b[0m\u001b[0;34m:\u001b[0m\u001b[0;34m\u001b[0m\u001b[0;34m\u001b[0m\u001b[0m\n\u001b[0;32m--> 900\u001b[0;31m                 \u001b[0;32mreturn\u001b[0m \u001b[0mplot_backend\u001b[0m\u001b[0;34m.\u001b[0m\u001b[0mplot\u001b[0m\u001b[0;34m(\u001b[0m\u001b[0mdata\u001b[0m\u001b[0;34m,\u001b[0m \u001b[0mx\u001b[0m\u001b[0;34m=\u001b[0m\u001b[0mx\u001b[0m\u001b[0;34m,\u001b[0m \u001b[0my\u001b[0m\u001b[0;34m=\u001b[0m\u001b[0my\u001b[0m\u001b[0;34m,\u001b[0m \u001b[0mkind\u001b[0m\u001b[0;34m=\u001b[0m\u001b[0mkind\u001b[0m\u001b[0;34m,\u001b[0m \u001b[0;34m**\u001b[0m\u001b[0mkwargs\u001b[0m\u001b[0;34m)\u001b[0m\u001b[0;34m\u001b[0m\u001b[0;34m\u001b[0m\u001b[0m\n\u001b[0m\u001b[1;32m    901\u001b[0m             \u001b[0;32melse\u001b[0m\u001b[0;34m:\u001b[0m\u001b[0;34m\u001b[0m\u001b[0;34m\u001b[0m\u001b[0m\n\u001b[1;32m    902\u001b[0m                 \u001b[0;32mraise\u001b[0m \u001b[0mValueError\u001b[0m\u001b[0;34m(\u001b[0m\u001b[0;34mf\"plot kind {kind} can only be used for data frames\"\u001b[0m\u001b[0;34m)\u001b[0m\u001b[0;34m\u001b[0m\u001b[0;34m\u001b[0m\u001b[0m\n",
      "\u001b[0;32m~/anaconda3/envs/clase/lib/python3.8/site-packages/pandas/plotting/_matplotlib/__init__.py\u001b[0m in \u001b[0;36mplot\u001b[0;34m(data, kind, **kwargs)\u001b[0m\n\u001b[1;32m     59\u001b[0m             \u001b[0mkwargs\u001b[0m\u001b[0;34m[\u001b[0m\u001b[0;34m\"ax\"\u001b[0m\u001b[0;34m]\u001b[0m \u001b[0;34m=\u001b[0m \u001b[0mgetattr\u001b[0m\u001b[0;34m(\u001b[0m\u001b[0max\u001b[0m\u001b[0;34m,\u001b[0m \u001b[0;34m\"left_ax\"\u001b[0m\u001b[0;34m,\u001b[0m \u001b[0max\u001b[0m\u001b[0;34m)\u001b[0m\u001b[0;34m\u001b[0m\u001b[0;34m\u001b[0m\u001b[0m\n\u001b[1;32m     60\u001b[0m     \u001b[0mplot_obj\u001b[0m \u001b[0;34m=\u001b[0m \u001b[0mPLOT_CLASSES\u001b[0m\u001b[0;34m[\u001b[0m\u001b[0mkind\u001b[0m\u001b[0;34m]\u001b[0m\u001b[0;34m(\u001b[0m\u001b[0mdata\u001b[0m\u001b[0;34m,\u001b[0m \u001b[0;34m**\u001b[0m\u001b[0mkwargs\u001b[0m\u001b[0;34m)\u001b[0m\u001b[0;34m\u001b[0m\u001b[0;34m\u001b[0m\u001b[0m\n\u001b[0;32m---> 61\u001b[0;31m     \u001b[0mplot_obj\u001b[0m\u001b[0;34m.\u001b[0m\u001b[0mgenerate\u001b[0m\u001b[0;34m(\u001b[0m\u001b[0;34m)\u001b[0m\u001b[0;34m\u001b[0m\u001b[0;34m\u001b[0m\u001b[0m\n\u001b[0m\u001b[1;32m     62\u001b[0m     \u001b[0mplot_obj\u001b[0m\u001b[0;34m.\u001b[0m\u001b[0mdraw\u001b[0m\u001b[0;34m(\u001b[0m\u001b[0;34m)\u001b[0m\u001b[0;34m\u001b[0m\u001b[0;34m\u001b[0m\u001b[0m\n\u001b[1;32m     63\u001b[0m     \u001b[0;32mreturn\u001b[0m \u001b[0mplot_obj\u001b[0m\u001b[0;34m.\u001b[0m\u001b[0mresult\u001b[0m\u001b[0;34m\u001b[0m\u001b[0;34m\u001b[0m\u001b[0m\n",
      "\u001b[0;32m~/anaconda3/envs/clase/lib/python3.8/site-packages/pandas/plotting/_matplotlib/core.py\u001b[0m in \u001b[0;36mgenerate\u001b[0;34m(self)\u001b[0m\n\u001b[1;32m    278\u001b[0m         \u001b[0mself\u001b[0m\u001b[0;34m.\u001b[0m\u001b[0m_compute_plot_data\u001b[0m\u001b[0;34m(\u001b[0m\u001b[0;34m)\u001b[0m\u001b[0;34m\u001b[0m\u001b[0;34m\u001b[0m\u001b[0m\n\u001b[1;32m    279\u001b[0m         \u001b[0mself\u001b[0m\u001b[0;34m.\u001b[0m\u001b[0m_setup_subplots\u001b[0m\u001b[0;34m(\u001b[0m\u001b[0;34m)\u001b[0m\u001b[0;34m\u001b[0m\u001b[0;34m\u001b[0m\u001b[0m\n\u001b[0;32m--> 280\u001b[0;31m         \u001b[0mself\u001b[0m\u001b[0;34m.\u001b[0m\u001b[0m_make_plot\u001b[0m\u001b[0;34m(\u001b[0m\u001b[0;34m)\u001b[0m\u001b[0;34m\u001b[0m\u001b[0;34m\u001b[0m\u001b[0m\n\u001b[0m\u001b[1;32m    281\u001b[0m         \u001b[0mself\u001b[0m\u001b[0;34m.\u001b[0m\u001b[0m_add_table\u001b[0m\u001b[0;34m(\u001b[0m\u001b[0;34m)\u001b[0m\u001b[0;34m\u001b[0m\u001b[0;34m\u001b[0m\u001b[0m\n\u001b[1;32m    282\u001b[0m         \u001b[0mself\u001b[0m\u001b[0;34m.\u001b[0m\u001b[0m_make_legend\u001b[0m\u001b[0;34m(\u001b[0m\u001b[0;34m)\u001b[0m\u001b[0;34m\u001b[0m\u001b[0;34m\u001b[0m\u001b[0m\n",
      "\u001b[0;32m~/anaconda3/envs/clase/lib/python3.8/site-packages/pandas/plotting/_matplotlib/core.py\u001b[0m in \u001b[0;36m_make_plot\u001b[0;34m(self)\u001b[0m\n\u001b[1;32m   1039\u001b[0m         \u001b[0;32melse\u001b[0m\u001b[0;34m:\u001b[0m\u001b[0;34m\u001b[0m\u001b[0;34m\u001b[0m\u001b[0m\n\u001b[1;32m   1040\u001b[0m             \u001b[0mlabel\u001b[0m \u001b[0;34m=\u001b[0m \u001b[0;32mNone\u001b[0m\u001b[0;34m\u001b[0m\u001b[0;34m\u001b[0m\u001b[0m\n\u001b[0;32m-> 1041\u001b[0;31m         scatter = ax.scatter(\n\u001b[0m\u001b[1;32m   1042\u001b[0m             \u001b[0mdata\u001b[0m\u001b[0;34m[\u001b[0m\u001b[0mx\u001b[0m\u001b[0;34m]\u001b[0m\u001b[0;34m.\u001b[0m\u001b[0mvalues\u001b[0m\u001b[0;34m,\u001b[0m\u001b[0;34m\u001b[0m\u001b[0;34m\u001b[0m\u001b[0m\n\u001b[1;32m   1043\u001b[0m             \u001b[0mdata\u001b[0m\u001b[0;34m[\u001b[0m\u001b[0my\u001b[0m\u001b[0;34m]\u001b[0m\u001b[0;34m.\u001b[0m\u001b[0mvalues\u001b[0m\u001b[0;34m,\u001b[0m\u001b[0;34m\u001b[0m\u001b[0;34m\u001b[0m\u001b[0m\n",
      "\u001b[0;32m~/anaconda3/envs/clase/lib/python3.8/site-packages/matplotlib/__init__.py\u001b[0m in \u001b[0;36minner\u001b[0;34m(ax, data, *args, **kwargs)\u001b[0m\n\u001b[1;32m   1445\u001b[0m     \u001b[0;32mdef\u001b[0m \u001b[0minner\u001b[0m\u001b[0;34m(\u001b[0m\u001b[0max\u001b[0m\u001b[0;34m,\u001b[0m \u001b[0;34m*\u001b[0m\u001b[0margs\u001b[0m\u001b[0;34m,\u001b[0m \u001b[0mdata\u001b[0m\u001b[0;34m=\u001b[0m\u001b[0;32mNone\u001b[0m\u001b[0;34m,\u001b[0m \u001b[0;34m**\u001b[0m\u001b[0mkwargs\u001b[0m\u001b[0;34m)\u001b[0m\u001b[0;34m:\u001b[0m\u001b[0;34m\u001b[0m\u001b[0;34m\u001b[0m\u001b[0m\n\u001b[1;32m   1446\u001b[0m         \u001b[0;32mif\u001b[0m \u001b[0mdata\u001b[0m \u001b[0;32mis\u001b[0m \u001b[0;32mNone\u001b[0m\u001b[0;34m:\u001b[0m\u001b[0;34m\u001b[0m\u001b[0;34m\u001b[0m\u001b[0m\n\u001b[0;32m-> 1447\u001b[0;31m             \u001b[0;32mreturn\u001b[0m \u001b[0mfunc\u001b[0m\u001b[0;34m(\u001b[0m\u001b[0max\u001b[0m\u001b[0;34m,\u001b[0m \u001b[0;34m*\u001b[0m\u001b[0mmap\u001b[0m\u001b[0;34m(\u001b[0m\u001b[0msanitize_sequence\u001b[0m\u001b[0;34m,\u001b[0m \u001b[0margs\u001b[0m\u001b[0;34m)\u001b[0m\u001b[0;34m,\u001b[0m \u001b[0;34m**\u001b[0m\u001b[0mkwargs\u001b[0m\u001b[0;34m)\u001b[0m\u001b[0;34m\u001b[0m\u001b[0;34m\u001b[0m\u001b[0m\n\u001b[0m\u001b[1;32m   1448\u001b[0m \u001b[0;34m\u001b[0m\u001b[0m\n\u001b[1;32m   1449\u001b[0m         \u001b[0mbound\u001b[0m \u001b[0;34m=\u001b[0m \u001b[0mnew_sig\u001b[0m\u001b[0;34m.\u001b[0m\u001b[0mbind\u001b[0m\u001b[0;34m(\u001b[0m\u001b[0max\u001b[0m\u001b[0;34m,\u001b[0m \u001b[0;34m*\u001b[0m\u001b[0margs\u001b[0m\u001b[0;34m,\u001b[0m \u001b[0;34m**\u001b[0m\u001b[0mkwargs\u001b[0m\u001b[0;34m)\u001b[0m\u001b[0;34m\u001b[0m\u001b[0;34m\u001b[0m\u001b[0m\n",
      "\u001b[0;32m~/anaconda3/envs/clase/lib/python3.8/site-packages/matplotlib/cbook/deprecation.py\u001b[0m in \u001b[0;36mwrapper\u001b[0;34m(*inner_args, **inner_kwargs)\u001b[0m\n\u001b[1;32m    409\u001b[0m                          \u001b[0;32melse\u001b[0m \u001b[0mdeprecation_addendum\u001b[0m\u001b[0;34m,\u001b[0m\u001b[0;34m\u001b[0m\u001b[0;34m\u001b[0m\u001b[0m\n\u001b[1;32m    410\u001b[0m                 **kwargs)\n\u001b[0;32m--> 411\u001b[0;31m         \u001b[0;32mreturn\u001b[0m \u001b[0mfunc\u001b[0m\u001b[0;34m(\u001b[0m\u001b[0;34m*\u001b[0m\u001b[0minner_args\u001b[0m\u001b[0;34m,\u001b[0m \u001b[0;34m**\u001b[0m\u001b[0minner_kwargs\u001b[0m\u001b[0;34m)\u001b[0m\u001b[0;34m\u001b[0m\u001b[0;34m\u001b[0m\u001b[0m\n\u001b[0m\u001b[1;32m    412\u001b[0m \u001b[0;34m\u001b[0m\u001b[0m\n\u001b[1;32m    413\u001b[0m     \u001b[0;32mreturn\u001b[0m \u001b[0mwrapper\u001b[0m\u001b[0;34m\u001b[0m\u001b[0;34m\u001b[0m\u001b[0m\n",
      "\u001b[0;32m~/anaconda3/envs/clase/lib/python3.8/site-packages/matplotlib/axes/_axes.py\u001b[0m in \u001b[0;36mscatter\u001b[0;34m(self, x, y, s, c, marker, cmap, norm, vmin, vmax, alpha, linewidths, verts, edgecolors, plotnonfinite, **kwargs)\u001b[0m\n\u001b[1;32m   4449\u001b[0m \u001b[0;34m\u001b[0m\u001b[0m\n\u001b[1;32m   4450\u001b[0m         \u001b[0mc\u001b[0m\u001b[0;34m,\u001b[0m \u001b[0mcolors\u001b[0m\u001b[0;34m,\u001b[0m \u001b[0medgecolors\u001b[0m \u001b[0;34m=\u001b[0m\u001b[0;31m \u001b[0m\u001b[0;31m\\\u001b[0m\u001b[0;34m\u001b[0m\u001b[0;34m\u001b[0m\u001b[0m\n\u001b[0;32m-> 4451\u001b[0;31m             self._parse_scatter_color_args(\n\u001b[0m\u001b[1;32m   4452\u001b[0m                 \u001b[0mc\u001b[0m\u001b[0;34m,\u001b[0m \u001b[0medgecolors\u001b[0m\u001b[0;34m,\u001b[0m \u001b[0mkwargs\u001b[0m\u001b[0;34m,\u001b[0m \u001b[0mx\u001b[0m\u001b[0;34m.\u001b[0m\u001b[0msize\u001b[0m\u001b[0;34m,\u001b[0m\u001b[0;34m\u001b[0m\u001b[0;34m\u001b[0m\u001b[0m\n\u001b[1;32m   4453\u001b[0m                 get_next_color_func=self._get_patches_for_fill.get_next_color)\n",
      "\u001b[0;32m~/anaconda3/envs/clase/lib/python3.8/site-packages/matplotlib/axes/_axes.py\u001b[0m in \u001b[0;36m_parse_scatter_color_args\u001b[0;34m(c, edgecolors, kwargs, xsize, get_next_color_func)\u001b[0m\n\u001b[1;32m   4305\u001b[0m                     \u001b[0;31m# NB: remember that a single color is also acceptable.\u001b[0m\u001b[0;34m\u001b[0m\u001b[0;34m\u001b[0m\u001b[0;34m\u001b[0m\u001b[0m\n\u001b[1;32m   4306\u001b[0m                     \u001b[0;31m# Besides *colors* will be an empty array if c == 'none'.\u001b[0m\u001b[0;34m\u001b[0m\u001b[0;34m\u001b[0m\u001b[0;34m\u001b[0m\u001b[0m\n\u001b[0;32m-> 4307\u001b[0;31m                     \u001b[0;32mraise\u001b[0m \u001b[0minvalid_shape_exception\u001b[0m\u001b[0;34m(\u001b[0m\u001b[0mlen\u001b[0m\u001b[0;34m(\u001b[0m\u001b[0mcolors\u001b[0m\u001b[0;34m)\u001b[0m\u001b[0;34m,\u001b[0m \u001b[0mxsize\u001b[0m\u001b[0;34m)\u001b[0m\u001b[0;34m\u001b[0m\u001b[0;34m\u001b[0m\u001b[0m\n\u001b[0m\u001b[1;32m   4308\u001b[0m         \u001b[0;32melse\u001b[0m\u001b[0;34m:\u001b[0m\u001b[0;34m\u001b[0m\u001b[0;34m\u001b[0m\u001b[0m\n\u001b[1;32m   4309\u001b[0m             \u001b[0mcolors\u001b[0m \u001b[0;34m=\u001b[0m \u001b[0;32mNone\u001b[0m  \u001b[0;31m# use cmap, norm after collection is created\u001b[0m\u001b[0;34m\u001b[0m\u001b[0;34m\u001b[0m\u001b[0m\n",
      "\u001b[0;31mValueError\u001b[0m: 'c' argument has 160 elements, which is inconsistent with 'x' and 'y' with size 4096."
     ]
    },
    {
     "data": {
      "image/png": "[encoded data removed]",
      "text/plain": [
       "<Figure size 432x288 with 1 Axes>"
      ]
     },
     "metadata": {
      "needs_background": "light"
     },
     "output_type": "display_data"
    }
   ],
   "source": [
    "# Your code here:\n",
    "df.plot.scatter(x='pc1', y='pc2', c= labels);"
   ]
  },
  {
   "cell_type": "markdown",
   "metadata": {},
   "source": [
    "Do you see a clear separation between cats and dogs? Write your answer below."
   ]
  },
  {
   "cell_type": "code",
   "execution_count": null,
   "metadata": {},
   "outputs": [],
   "source": [
    "# Your conclusions here:\n",
    "\n"
   ]
  },
  {
   "cell_type": "code",
   "execution_count": null,
   "metadata": {},
   "outputs": [],
   "source": []
  }
 ],
 "metadata": {
  "kernelspec": {
   "display_name": "clase",
   "language": "python",
   "name": "clase"
  },
  "language_info": {
   "codemirror_mode": {
    "name": "ipython",
    "version": 3
   },
   "file_extension": ".py",
   "mimetype": "text/x-python",
   "name": "python",
   "nbconvert_exporter": "python",
   "pygments_lexer": "ipython3",
   "version": "3.8.8"
  }
 },
 "nbformat": 4,
 "nbformat_minor": 2
}
