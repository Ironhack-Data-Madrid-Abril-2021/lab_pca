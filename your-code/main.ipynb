{
 "cells": [
  {
   "cell_type": "markdown",
   "metadata": {},
   "source": [
    "# Before your start:\n",
    "- Read the README.md file\n",
    "- Comment as much as you can and use the resources (README.md file)\n",
    "- Happy learning!"
   ]
  },
  {
   "cell_type": "code",
   "execution_count": 1,
   "metadata": {},
   "outputs": [],
   "source": [
    "# Run this code:\n",
    "\n",
    "%matplotlib inline\n",
    "\n",
    "import matplotlib.pyplot as plt"
   ]
  },
  {
   "cell_type": "code",
   "execution_count": 2,
   "metadata": {},
   "outputs": [],
   "source": [
    "# Import numpy and pandas:\n",
    "import numpy as np\n",
    "import pandas as pd\n"
   ]
  },
  {
   "cell_type": "markdown",
   "metadata": {},
   "source": [
    "# Challenge 1 - Reading and Standardizing the Data\n",
    "\n",
    "In this challenge we will work with image data and reduce the dimensions of the data to create a 2 dimensional plot. While we have not worked much with image data before, it can be represented as a numpy array where each pixel is assigned a numeric value. In this lesson, we will look at a dataset of cats and a dataset of dogs and see whether reducing them to two dimensions allows us to see if the data is separable. We will start by loading and processing the data. Run the cell below to load the two csv files and convert them into numpy arrays."
   ]
  },
  {
   "cell_type": "code",
   "execution_count": 3,
   "metadata": {},
   "outputs": [],
   "source": [
    "# Run this code\n",
    "\n",
    "cats = np.array(pd.read_csv(\"https://raw.githubusercontent.com/bioramble/pca/master/cat.csv\", header=None))\n",
    "dogs = np.array(pd.read_csv(\"https://raw.githubusercontent.com/bioramble/pca/master/dog.csv\", header=None))"
   ]
  },
  {
   "cell_type": "markdown",
   "metadata": {},
   "source": [
    "Next, we'll examine the shape of both the cats and the dogs arrays. Print out both shapes below."
   ]
  },
  {
   "cell_type": "code",
   "execution_count": 4,
   "metadata": {},
   "outputs": [
    {
     "data": {
      "text/plain": [
       "((4096, 80), (4096, 80))"
      ]
     },
     "execution_count": 4,
     "metadata": {},
     "output_type": "execute_result"
    }
   ],
   "source": [
    "# Your code here:\n",
    "\n",
    "cats.shape , dogs.shape"
   ]
  },
  {
   "cell_type": "markdown",
   "metadata": {},
   "source": [
    "What this means is that both arrays contain 80 images each (the number of columns). Each image is comprised of 64x64 pixels (so a total of 4096 pixels per image). The images have been flattened such that all 4096 are in a single row.\n",
    "\n",
    "Print out column 0 of the cats array to see what the pixels values look like."
   ]
  },
  {
   "cell_type": "code",
   "execution_count": 6,
   "metadata": {},
   "outputs": [
    {
     "data": {
      "text/plain": [
       "array([ 64,  23, 250, 137,  55, 173,  18, 134,  19,  47, 109, 164,  41,\n",
       "        78, 108, 108, 247, 105, 158,  54, 103,   4,  23, 102, 239,  72,\n",
       "        42,  21, 168, 109, 112, 177,  22, 233,  15, 236, 250, 137,  32,\n",
       "         5, 178, 109,  24, 107,  53, 241, 226, 143,   5, 136,  98, 100,\n",
       "        89,  66, 228,  92, 255,  88, 230,  56, 160,  69,   6,  24, 195,\n",
       "       183, 239,  35, 154, 154, 122,  18,  87, 106, 174,  69,  28,  60,\n",
       "       223, 101])"
      ]
     },
     "execution_count": 6,
     "metadata": {},
     "output_type": "execute_result"
    }
   ],
   "source": [
    "# Your code here:\n",
    "\n",
    "cats[0]"
   ]
  },
  {
   "cell_type": "markdown",
   "metadata": {},
   "source": [
    "Using `matplotlib` we can plot a single cat or a single dog. We do this by reshaping the vector back to a 64x64 image and then using the `imshow` function.\n",
    "\n",
    "Run the code below to look at the first dog and the first cat."
   ]
  },
  {
   "cell_type": "code",
   "execution_count": 7,
   "metadata": {},
   "outputs": [
    {
     "data": {
      "text/plain": [
       "<matplotlib.image.AxesImage at 0x7fd19da9ed60>"
      ]
     },
     "execution_count": 7,
     "metadata": {},
     "output_type": "execute_result"
    },
    {
     "data": {
      "image/png": "[encoded data removed]",
      "text/plain": [
       "<Figure size 432x288 with 1 Axes>"
      ]
     },
     "metadata": {
      "needs_background": "light"
     },
     "output_type": "display_data"
    }
   ],
   "source": [
    "# Run this code:\n",
    "\n",
    "fig, ax = plt.subplots()\n",
    "ax.imshow(cats[:,0].reshape(64, 64).T, cmap=plt.cm.bone, interpolation='nearest') "
   ]
  },
  {
   "cell_type": "code",
   "execution_count": 8,
   "metadata": {},
   "outputs": [
    {
     "data": {
      "text/plain": [
       "<matplotlib.image.AxesImage at 0x7fd19cef2f40>"
      ]
     },
     "execution_count": 8,
     "metadata": {},
     "output_type": "execute_result"
    },
    {
     "data": {
      "image/png": "[encoded data removed]",
      "text/plain": [
       "<Figure size 432x288 with 1 Axes>"
      ]
     },
     "metadata": {
      "needs_background": "light"
     },
     "output_type": "display_data"
    }
   ],
   "source": [
    "# Run this code:\n",
    "\n",
    "fig, ax = plt.subplots()\n",
    "ax.imshow(dogs[:,0].reshape(64, 64).T, cmap=plt.cm.bone, interpolation='nearest') "
   ]
  },
  {
   "cell_type": "markdown",
   "metadata": {},
   "source": [
    "Next, we would like to create a standardization function. This function will find the mean and standard deviation of each image. We subtract the mean from each pixel and divide each pixel by the standard deviation. Write the function below.\n",
    "\n",
    "Hint: To find the mean and standard deviation of each image, use `numpy`'s version of mean and stadnard deviation and use `axis=0`."
   ]
  },
  {
   "cell_type": "code",
   "execution_count": 26,
   "metadata": {},
   "outputs": [],
   "source": [
    "def standardize(x):\n",
    "    #This function takes as input a numpy array and returns a stadardized numpy array of the same dimensions.\n",
    "    #Sample input: np.array([[1,2,3],[4,5,6]])\n",
    "    #Sample output: np.array([[-1,-1,-1],[1,1,1]])\n",
    "    \n",
    "    # Your code here:\n",
    "    return (x - np.mean(x, axis= 0 ))/np.std(x, axis = 0)"
   ]
  },
  {
   "cell_type": "code",
   "execution_count": 27,
   "metadata": {},
   "outputs": [
    {
     "data": {
      "text/plain": [
       "array([[-1., -1., -1.],\n",
       "       [ 1.,  1.,  1.]])"
      ]
     },
     "execution_count": 27,
     "metadata": {},
     "output_type": "execute_result"
    }
   ],
   "source": [
    "standardize(np.array([[1,2,3],[4,5,6]]))"
   ]
  },
  {
   "cell_type": "markdown",
   "metadata": {},
   "source": [
    "Now, use the `np.concatenate` function to combine the cats and dogs arrays. Use `axis=1` to combine the two correctly. Make sure to put dogs first."
   ]
  },
  {
   "cell_type": "code",
   "execution_count": 28,
   "metadata": {},
   "outputs": [
    {
     "data": {
      "text/plain": [
       "array([[ 64,  23, 250, ...,   6,  30, 197],\n",
       "       [ 64,  23, 250, ...,  10,  69, 199],\n",
       "       [ 64,  20, 250, ...,   6,  69, 195],\n",
       "       ...,\n",
       "       [ 64,  31, 244, ...,   7, 163, 166],\n",
       "       [ 64,  23, 232, ...,  10, 140, 170],\n",
       "       [ 61,   9, 244, ...,   7, 140, 171]])"
      ]
     },
     "execution_count": 28,
     "metadata": {},
     "output_type": "execute_result"
    }
   ],
   "source": [
    "# Your code here:\n",
    "conc = np.concatenate((cats,dogs),axis=1)\n",
    "conc"
   ]
  },
  {
   "cell_type": "markdown",
   "metadata": {},
   "source": [
    "Standardize the concatenated array below."
   ]
  },
  {
   "cell_type": "code",
   "execution_count": 29,
   "metadata": {},
   "outputs": [
    {
     "data": {
      "text/plain": [
       "array([[ 0.08483333, -1.50629151,  1.80099272, ..., -1.20040955,\n",
       "        -1.96502931,  1.40507148],\n",
       "       [ 0.08483333, -1.50629151,  1.80099272, ..., -1.1555871 ,\n",
       "        -1.30339954,  1.43412363],\n",
       "       [ 0.08483333, -1.56078403,  1.80099272, ..., -1.20040955,\n",
       "        -1.30339954,  1.37601933],\n",
       "       ...,\n",
       "       [ 0.08483333, -1.36097813,  1.73863632, ..., -1.18920394,\n",
       "         0.29129785,  0.95476315],\n",
       "       [ 0.08483333, -1.50629151,  1.61392352, ..., -1.1555871 ,\n",
       "        -0.09889407,  1.01286745],\n",
       "       [ 0.0376196 , -1.76058993,  1.73863632, ..., -1.18920394,\n",
       "        -0.09889407,  1.02739353]])"
      ]
     },
     "execution_count": 29,
     "metadata": {},
     "output_type": "execute_result"
    }
   ],
   "source": [
    "# Your code here:\n",
    "standardize(conc)\n"
   ]
  },
  {
   "cell_type": "markdown",
   "metadata": {},
   "source": [
    "# Challenge 2 - Using PCA\n",
    "\n",
    "Now that we have created a standardized matrix of cats and dogs, we'll find the two most important components in the data.\n",
    "\n",
    "Load the `PCA` function from `statsmodels` (read about this function [here](https://www.statsmodels.org/dev/generated/statsmodels.multivariate.pca.PCA.html)) and apply the function to our standarized data. Create a PCA model with two components."
   ]
  },
  {
   "cell_type": "code",
   "execution_count": 34,
   "metadata": {},
   "outputs": [
    {
     "data": {
      "text/html": [
       "<div>\n",
       "<style scoped>\n",
       "    .dataframe tbody tr th:only-of-type {\n",
       "        vertical-align: middle;\n",
       "    }\n",
       "\n",
       "    .dataframe tbody tr th {\n",
       "        vertical-align: top;\n",
       "    }\n",
       "\n",
       "    .dataframe thead th {\n",
       "        text-align: right;\n",
       "    }\n",
       "</style>\n",
       "<table border=\"1\" class=\"dataframe\">\n",
       "  <thead>\n",
       "    <tr style=\"text-align: right;\">\n",
       "      <th></th>\n",
       "      <th>0</th>\n",
       "      <th>1</th>\n",
       "      <th>2</th>\n",
       "      <th>3</th>\n",
       "      <th>4</th>\n",
       "      <th>5</th>\n",
       "      <th>6</th>\n",
       "      <th>7</th>\n",
       "      <th>8</th>\n",
       "      <th>9</th>\n",
       "      <th>...</th>\n",
       "      <th>150</th>\n",
       "      <th>151</th>\n",
       "      <th>152</th>\n",
       "      <th>153</th>\n",
       "      <th>154</th>\n",
       "      <th>155</th>\n",
       "      <th>156</th>\n",
       "      <th>157</th>\n",
       "      <th>158</th>\n",
       "      <th>159</th>\n",
       "    </tr>\n",
       "  </thead>\n",
       "  <tbody>\n",
       "    <tr>\n",
       "      <th>0</th>\n",
       "      <td>0.084833</td>\n",
       "      <td>-1.506292</td>\n",
       "      <td>1.800993</td>\n",
       "      <td>1.433632</td>\n",
       "      <td>-0.242615</td>\n",
       "      <td>0.777245</td>\n",
       "      <td>-1.140757</td>\n",
       "      <td>0.695072</td>\n",
       "      <td>-1.587132</td>\n",
       "      <td>-1.197625</td>\n",
       "      <td>...</td>\n",
       "      <td>-2.441830</td>\n",
       "      <td>-0.808378</td>\n",
       "      <td>-1.655386</td>\n",
       "      <td>-3.233238</td>\n",
       "      <td>-0.058228</td>\n",
       "      <td>1.500201</td>\n",
       "      <td>-1.813957</td>\n",
       "      <td>-1.200410</td>\n",
       "      <td>-1.965029</td>\n",
       "      <td>1.405071</td>\n",
       "    </tr>\n",
       "    <tr>\n",
       "      <th>1</th>\n",
       "      <td>0.084833</td>\n",
       "      <td>-1.506292</td>\n",
       "      <td>1.800993</td>\n",
       "      <td>1.433632</td>\n",
       "      <td>-0.242615</td>\n",
       "      <td>0.777245</td>\n",
       "      <td>-1.140757</td>\n",
       "      <td>0.695072</td>\n",
       "      <td>-1.587132</td>\n",
       "      <td>-1.236947</td>\n",
       "      <td>...</td>\n",
       "      <td>-2.441830</td>\n",
       "      <td>-0.808378</td>\n",
       "      <td>-1.626509</td>\n",
       "      <td>-3.253605</td>\n",
       "      <td>-0.038502</td>\n",
       "      <td>1.500201</td>\n",
       "      <td>-1.110181</td>\n",
       "      <td>-1.155587</td>\n",
       "      <td>-1.303400</td>\n",
       "      <td>1.434124</td>\n",
       "    </tr>\n",
       "    <tr>\n",
       "      <th>2</th>\n",
       "      <td>0.084833</td>\n",
       "      <td>-1.560784</td>\n",
       "      <td>1.800993</td>\n",
       "      <td>1.433632</td>\n",
       "      <td>-0.242615</td>\n",
       "      <td>0.777245</td>\n",
       "      <td>-1.140757</td>\n",
       "      <td>0.695072</td>\n",
       "      <td>-1.587132</td>\n",
       "      <td>-1.079660</td>\n",
       "      <td>...</td>\n",
       "      <td>-2.441830</td>\n",
       "      <td>-0.790908</td>\n",
       "      <td>-1.568756</td>\n",
       "      <td>-3.253605</td>\n",
       "      <td>-0.018777</td>\n",
       "      <td>1.500201</td>\n",
       "      <td>0.057057</td>\n",
       "      <td>-1.200410</td>\n",
       "      <td>-1.303400</td>\n",
       "      <td>1.376019</td>\n",
       "    </tr>\n",
       "    <tr>\n",
       "      <th>3</th>\n",
       "      <td>0.084833</td>\n",
       "      <td>-1.560784</td>\n",
       "      <td>1.738636</td>\n",
       "      <td>1.596560</td>\n",
       "      <td>-0.242615</td>\n",
       "      <td>0.777245</td>\n",
       "      <td>-1.230093</td>\n",
       "      <td>0.695072</td>\n",
       "      <td>-1.587132</td>\n",
       "      <td>-0.869944</td>\n",
       "      <td>...</td>\n",
       "      <td>-2.441830</td>\n",
       "      <td>-0.773438</td>\n",
       "      <td>-1.395498</td>\n",
       "      <td>-3.253605</td>\n",
       "      <td>-0.018777</td>\n",
       "      <td>1.402151</td>\n",
       "      <td>0.469023</td>\n",
       "      <td>-1.234026</td>\n",
       "      <td>-1.303400</td>\n",
       "      <td>1.376019</td>\n",
       "    </tr>\n",
       "    <tr>\n",
       "      <th>4</th>\n",
       "      <td>0.084833</td>\n",
       "      <td>-1.760590</td>\n",
       "      <td>1.738636</td>\n",
       "      <td>1.759488</td>\n",
       "      <td>-0.242615</td>\n",
       "      <td>0.536399</td>\n",
       "      <td>-1.230093</td>\n",
       "      <td>0.695072</td>\n",
       "      <td>-1.587132</td>\n",
       "      <td>-0.869944</td>\n",
       "      <td>...</td>\n",
       "      <td>-2.441830</td>\n",
       "      <td>-0.738498</td>\n",
       "      <td>-1.236678</td>\n",
       "      <td>-3.233238</td>\n",
       "      <td>0.040400</td>\n",
       "      <td>1.402151</td>\n",
       "      <td>0.194379</td>\n",
       "      <td>-1.222821</td>\n",
       "      <td>-1.965029</td>\n",
       "      <td>1.317915</td>\n",
       "    </tr>\n",
       "    <tr>\n",
       "      <th>...</th>\n",
       "      <td>...</td>\n",
       "      <td>...</td>\n",
       "      <td>...</td>\n",
       "      <td>...</td>\n",
       "      <td>...</td>\n",
       "      <td>...</td>\n",
       "      <td>...</td>\n",
       "      <td>...</td>\n",
       "      <td>...</td>\n",
       "      <td>...</td>\n",
       "      <td>...</td>\n",
       "      <td>...</td>\n",
       "      <td>...</td>\n",
       "      <td>...</td>\n",
       "      <td>...</td>\n",
       "      <td>...</td>\n",
       "      <td>...</td>\n",
       "      <td>...</td>\n",
       "      <td>...</td>\n",
       "      <td>...</td>\n",
       "      <td>...</td>\n",
       "    </tr>\n",
       "    <tr>\n",
       "      <th>4091</th>\n",
       "      <td>0.289426</td>\n",
       "      <td>-0.743396</td>\n",
       "      <td>1.738636</td>\n",
       "      <td>0.060382</td>\n",
       "      <td>-0.416686</td>\n",
       "      <td>-0.764168</td>\n",
       "      <td>-0.211659</td>\n",
       "      <td>0.304904</td>\n",
       "      <td>0.882889</td>\n",
       "      <td>0.532534</td>\n",
       "      <td>...</td>\n",
       "      <td>-2.441830</td>\n",
       "      <td>-0.651149</td>\n",
       "      <td>-1.626509</td>\n",
       "      <td>1.084648</td>\n",
       "      <td>0.494087</td>\n",
       "      <td>0.578530</td>\n",
       "      <td>1.104138</td>\n",
       "      <td>-1.032325</td>\n",
       "      <td>0.223438</td>\n",
       "      <td>0.969289</td>\n",
       "    </tr>\n",
       "    <tr>\n",
       "      <th>4092</th>\n",
       "      <td>0.289426</td>\n",
       "      <td>-0.997695</td>\n",
       "      <td>1.738636</td>\n",
       "      <td>0.572441</td>\n",
       "      <td>-0.416686</td>\n",
       "      <td>-0.426984</td>\n",
       "      <td>-0.211659</td>\n",
       "      <td>0.304904</td>\n",
       "      <td>0.882889</td>\n",
       "      <td>0.165530</td>\n",
       "      <td>...</td>\n",
       "      <td>-2.458178</td>\n",
       "      <td>-0.651149</td>\n",
       "      <td>-1.655386</td>\n",
       "      <td>1.084648</td>\n",
       "      <td>0.434910</td>\n",
       "      <td>0.755020</td>\n",
       "      <td>1.052642</td>\n",
       "      <td>-1.133176</td>\n",
       "      <td>0.223438</td>\n",
       "      <td>0.911185</td>\n",
       "    </tr>\n",
       "    <tr>\n",
       "      <th>4093</th>\n",
       "      <td>0.084833</td>\n",
       "      <td>-1.360978</td>\n",
       "      <td>1.738636</td>\n",
       "      <td>0.618992</td>\n",
       "      <td>-0.555943</td>\n",
       "      <td>-0.972900</td>\n",
       "      <td>-0.354597</td>\n",
       "      <td>0.304904</td>\n",
       "      <td>0.882889</td>\n",
       "      <td>-0.751978</td>\n",
       "      <td>...</td>\n",
       "      <td>-2.458178</td>\n",
       "      <td>-0.668619</td>\n",
       "      <td>-1.640947</td>\n",
       "      <td>1.064280</td>\n",
       "      <td>0.336283</td>\n",
       "      <td>0.794240</td>\n",
       "      <td>1.430278</td>\n",
       "      <td>-1.189204</td>\n",
       "      <td>0.291298</td>\n",
       "      <td>0.954763</td>\n",
       "    </tr>\n",
       "    <tr>\n",
       "      <th>4094</th>\n",
       "      <td>0.084833</td>\n",
       "      <td>-1.506292</td>\n",
       "      <td>1.613924</td>\n",
       "      <td>1.131052</td>\n",
       "      <td>-0.416686</td>\n",
       "      <td>-1.277972</td>\n",
       "      <td>-0.354597</td>\n",
       "      <td>0.304904</td>\n",
       "      <td>0.882889</td>\n",
       "      <td>-1.236947</td>\n",
       "      <td>...</td>\n",
       "      <td>-2.458178</td>\n",
       "      <td>-0.633679</td>\n",
       "      <td>-1.640947</td>\n",
       "      <td>1.105015</td>\n",
       "      <td>0.277106</td>\n",
       "      <td>0.833460</td>\n",
       "      <td>0.177214</td>\n",
       "      <td>-1.155587</td>\n",
       "      <td>-0.098894</td>\n",
       "      <td>1.012867</td>\n",
       "    </tr>\n",
       "    <tr>\n",
       "      <th>4095</th>\n",
       "      <td>0.037620</td>\n",
       "      <td>-1.760590</td>\n",
       "      <td>1.738636</td>\n",
       "      <td>1.131052</td>\n",
       "      <td>-0.294836</td>\n",
       "      <td>-1.277972</td>\n",
       "      <td>-0.211659</td>\n",
       "      <td>0.304904</td>\n",
       "      <td>0.882889</td>\n",
       "      <td>-1.197625</td>\n",
       "      <td>...</td>\n",
       "      <td>-2.458178</td>\n",
       "      <td>-0.598739</td>\n",
       "      <td>-1.640947</td>\n",
       "      <td>1.206852</td>\n",
       "      <td>0.316557</td>\n",
       "      <td>0.892290</td>\n",
       "      <td>-1.625139</td>\n",
       "      <td>-1.189204</td>\n",
       "      <td>-0.098894</td>\n",
       "      <td>1.027394</td>\n",
       "    </tr>\n",
       "  </tbody>\n",
       "</table>\n",
       "<p>4096 rows × 160 columns</p>\n",
       "</div>"
      ],
      "text/plain": [
       "           0         1         2         3         4         5         6    \\\n",
       "0     0.084833 -1.506292  1.800993  1.433632 -0.242615  0.777245 -1.140757   \n",
       "1     0.084833 -1.506292  1.800993  1.433632 -0.242615  0.777245 -1.140757   \n",
       "2     0.084833 -1.560784  1.800993  1.433632 -0.242615  0.777245 -1.140757   \n",
       "3     0.084833 -1.560784  1.738636  1.596560 -0.242615  0.777245 -1.230093   \n",
       "4     0.084833 -1.760590  1.738636  1.759488 -0.242615  0.536399 -1.230093   \n",
       "...        ...       ...       ...       ...       ...       ...       ...   \n",
       "4091  0.289426 -0.743396  1.738636  0.060382 -0.416686 -0.764168 -0.211659   \n",
       "4092  0.289426 -0.997695  1.738636  0.572441 -0.416686 -0.426984 -0.211659   \n",
       "4093  0.084833 -1.360978  1.738636  0.618992 -0.555943 -0.972900 -0.354597   \n",
       "4094  0.084833 -1.506292  1.613924  1.131052 -0.416686 -1.277972 -0.354597   \n",
       "4095  0.037620 -1.760590  1.738636  1.131052 -0.294836 -1.277972 -0.211659   \n",
       "\n",
       "           7         8         9    ...       150       151       152  \\\n",
       "0     0.695072 -1.587132 -1.197625  ... -2.441830 -0.808378 -1.655386   \n",
       "1     0.695072 -1.587132 -1.236947  ... -2.441830 -0.808378 -1.626509   \n",
       "2     0.695072 -1.587132 -1.079660  ... -2.441830 -0.790908 -1.568756   \n",
       "3     0.695072 -1.587132 -0.869944  ... -2.441830 -0.773438 -1.395498   \n",
       "4     0.695072 -1.587132 -0.869944  ... -2.441830 -0.738498 -1.236678   \n",
       "...        ...       ...       ...  ...       ...       ...       ...   \n",
       "4091  0.304904  0.882889  0.532534  ... -2.441830 -0.651149 -1.626509   \n",
       "4092  0.304904  0.882889  0.165530  ... -2.458178 -0.651149 -1.655386   \n",
       "4093  0.304904  0.882889 -0.751978  ... -2.458178 -0.668619 -1.640947   \n",
       "4094  0.304904  0.882889 -1.236947  ... -2.458178 -0.633679 -1.640947   \n",
       "4095  0.304904  0.882889 -1.197625  ... -2.458178 -0.598739 -1.640947   \n",
       "\n",
       "           153       154       155       156       157       158       159  \n",
       "0    -3.233238 -0.058228  1.500201 -1.813957 -1.200410 -1.965029  1.405071  \n",
       "1    -3.253605 -0.038502  1.500201 -1.110181 -1.155587 -1.303400  1.434124  \n",
       "2    -3.253605 -0.018777  1.500201  0.057057 -1.200410 -1.303400  1.376019  \n",
       "3    -3.253605 -0.018777  1.402151  0.469023 -1.234026 -1.303400  1.376019  \n",
       "4    -3.233238  0.040400  1.402151  0.194379 -1.222821 -1.965029  1.317915  \n",
       "...        ...       ...       ...       ...       ...       ...       ...  \n",
       "4091  1.084648  0.494087  0.578530  1.104138 -1.032325  0.223438  0.969289  \n",
       "4092  1.084648  0.434910  0.755020  1.052642 -1.133176  0.223438  0.911185  \n",
       "4093  1.064280  0.336283  0.794240  1.430278 -1.189204  0.291298  0.954763  \n",
       "4094  1.105015  0.277106  0.833460  0.177214 -1.155587 -0.098894  1.012867  \n",
       "4095  1.206852  0.316557  0.892290 -1.625139 -1.189204 -0.098894  1.027394  \n",
       "\n",
       "[4096 rows x 160 columns]"
      ]
     },
     "execution_count": 34,
     "metadata": {},
     "output_type": "execute_result"
    }
   ],
   "source": [
    "# Your code here:\n",
    "\n",
    "from sklearn.preprocessing import StandardScaler, MinMaxScaler  # normalizacion\n",
    "\n",
    "from sklearn.decomposition import PCA\n",
    "\n",
    "import warnings\n",
    "warnings.simplefilter('ignore')\n",
    "\n",
    "data_n=StandardScaler().fit_transform(conc)\n",
    "data_n=MinMaxScaler().fit_transform(conc)\n",
    "data=pd.DataFrame(StandardScaler().fit_transform(conc))\n",
    "data"
   ]
  },
  {
   "cell_type": "markdown",
   "metadata": {},
   "source": [
    "Use `numpy` to find to transpose the standardized pet array. This will help us compute the projection."
   ]
  },
  {
   "cell_type": "code",
   "execution_count": 77,
   "metadata": {},
   "outputs": [
    {
     "name": "stdout",
     "output_type": "stream",
     "text": [
      "(4096, 160)\n"
     ]
    },
    {
     "data": {
      "text/plain": [
       "(160, 4096)"
      ]
     },
     "execution_count": 77,
     "metadata": {},
     "output_type": "execute_result"
    }
   ],
   "source": [
    "# Your code here:\n",
    "pca=PCA()\n",
    "\n",
    "pca.fit(data)\n",
    "\n",
    "print(data.shape)\n",
    "\n",
    "\n",
    "data=np.transpose(data)\n",
    "\n",
    "data.shape"
   ]
  },
  {
   "cell_type": "markdown",
   "metadata": {},
   "source": [
    "Find the dot product of the transposed standardized pet matrix and the `factors` of the `PCA` model found above. This will be the projection onto 2 dimensions. This means that each cat and dog image will now only have two columns instead of 4096."
   ]
  },
  {
   "cell_type": "code",
   "execution_count": 84,
   "metadata": {},
   "outputs": [
    {
     "data": {
      "text/html": [
       "<div>\n",
       "<style scoped>\n",
       "    .dataframe tbody tr th:only-of-type {\n",
       "        vertical-align: middle;\n",
       "    }\n",
       "\n",
       "    .dataframe tbody tr th {\n",
       "        vertical-align: top;\n",
       "    }\n",
       "\n",
       "    .dataframe thead th {\n",
       "        text-align: right;\n",
       "    }\n",
       "</style>\n",
       "<table border=\"1\" class=\"dataframe\">\n",
       "  <thead>\n",
       "    <tr style=\"text-align: right;\">\n",
       "      <th></th>\n",
       "      <th>0</th>\n",
       "      <th>1</th>\n",
       "    </tr>\n",
       "  </thead>\n",
       "  <tbody>\n",
       "    <tr>\n",
       "      <th>0</th>\n",
       "      <td>15.354606</td>\n",
       "      <td>25.721768</td>\n",
       "    </tr>\n",
       "    <tr>\n",
       "      <th>1</th>\n",
       "      <td>49.482278</td>\n",
       "      <td>3.874710</td>\n",
       "    </tr>\n",
       "    <tr>\n",
       "      <th>2</th>\n",
       "      <td>-48.468093</td>\n",
       "      <td>12.581905</td>\n",
       "    </tr>\n",
       "    <tr>\n",
       "      <th>3</th>\n",
       "      <td>-41.274495</td>\n",
       "      <td>4.220576</td>\n",
       "    </tr>\n",
       "    <tr>\n",
       "      <th>4</th>\n",
       "      <td>29.945190</td>\n",
       "      <td>27.140862</td>\n",
       "    </tr>\n",
       "  </tbody>\n",
       "</table>\n",
       "</div>"
      ],
      "text/plain": [
       "           0          1\n",
       "0  15.354606  25.721768\n",
       "1  49.482278   3.874710\n",
       "2 -48.468093  12.581905\n",
       "3 -41.274495   4.220576\n",
       "4  29.945190  27.140862"
      ]
     },
     "execution_count": 84,
     "metadata": {},
     "output_type": "execute_result"
    }
   ],
   "source": [
    "# Your code here:\n",
    "pca=PCA(n_components=2)\n",
    "df1=pd.DataFrame(pca.fit_transform(data))\n",
    "\n",
    "\n",
    "df1.shape\n",
    "df1.head()"
   ]
  },
  {
   "cell_type": "markdown",
   "metadata": {},
   "source": [
    "# Challenge 3 - Plotting the Data\n",
    "\n",
    "Now that we have reduced our cats and dogs arrays, we can easily plot the data in a way that the human eye can understand. We can look at this plot to see whether there are differences between the cat and dog images. \n",
    "\n",
    "In the cell below, turn the two dimensional projection into a pandas dataframe and name the columns `pc1`, and `pc2` respectively."
   ]
  },
  {
   "cell_type": "code",
   "execution_count": 85,
   "metadata": {},
   "outputs": [
    {
     "data": {
      "text/html": [
       "<div>\n",
       "<style scoped>\n",
       "    .dataframe tbody tr th:only-of-type {\n",
       "        vertical-align: middle;\n",
       "    }\n",
       "\n",
       "    .dataframe tbody tr th {\n",
       "        vertical-align: top;\n",
       "    }\n",
       "\n",
       "    .dataframe thead th {\n",
       "        text-align: right;\n",
       "    }\n",
       "</style>\n",
       "<table border=\"1\" class=\"dataframe\">\n",
       "  <thead>\n",
       "    <tr style=\"text-align: right;\">\n",
       "      <th></th>\n",
       "      <th>pc1</th>\n",
       "      <th>pc2</th>\n",
       "    </tr>\n",
       "  </thead>\n",
       "  <tbody>\n",
       "    <tr>\n",
       "      <th>0</th>\n",
       "      <td>10.057970</td>\n",
       "      <td>-9.718555</td>\n",
       "    </tr>\n",
       "    <tr>\n",
       "      <th>1</th>\n",
       "      <td>10.204446</td>\n",
       "      <td>-9.430432</td>\n",
       "    </tr>\n",
       "    <tr>\n",
       "      <th>2</th>\n",
       "      <td>10.215465</td>\n",
       "      <td>-9.604244</td>\n",
       "    </tr>\n",
       "    <tr>\n",
       "      <th>3</th>\n",
       "      <td>10.209994</td>\n",
       "      <td>-9.768486</td>\n",
       "    </tr>\n",
       "    <tr>\n",
       "      <th>4</th>\n",
       "      <td>10.424260</td>\n",
       "      <td>-9.537116</td>\n",
       "    </tr>\n",
       "    <tr>\n",
       "      <th>...</th>\n",
       "      <td>...</td>\n",
       "      <td>...</td>\n",
       "    </tr>\n",
       "    <tr>\n",
       "      <th>4091</th>\n",
       "      <td>1.319159</td>\n",
       "      <td>-3.701579</td>\n",
       "    </tr>\n",
       "    <tr>\n",
       "      <th>4092</th>\n",
       "      <td>1.675220</td>\n",
       "      <td>-3.421946</td>\n",
       "    </tr>\n",
       "    <tr>\n",
       "      <th>4093</th>\n",
       "      <td>1.789436</td>\n",
       "      <td>-3.152863</td>\n",
       "    </tr>\n",
       "    <tr>\n",
       "      <th>4094</th>\n",
       "      <td>1.557852</td>\n",
       "      <td>-3.086946</td>\n",
       "    </tr>\n",
       "    <tr>\n",
       "      <th>4095</th>\n",
       "      <td>1.297894</td>\n",
       "      <td>-3.198305</td>\n",
       "    </tr>\n",
       "  </tbody>\n",
       "</table>\n",
       "<p>4096 rows × 2 columns</p>\n",
       "</div>"
      ],
      "text/plain": [
       "            pc1       pc2\n",
       "0     10.057970 -9.718555\n",
       "1     10.204446 -9.430432\n",
       "2     10.215465 -9.604244\n",
       "3     10.209994 -9.768486\n",
       "4     10.424260 -9.537116\n",
       "...         ...       ...\n",
       "4091   1.319159 -3.701579\n",
       "4092   1.675220 -3.421946\n",
       "4093   1.789436 -3.152863\n",
       "4094   1.557852 -3.086946\n",
       "4095   1.297894 -3.198305\n",
       "\n",
       "[4096 rows x 2 columns]"
      ]
     },
     "execution_count": 85,
     "metadata": {},
     "output_type": "execute_result"
    }
   ],
   "source": [
    "df1.head()\n",
    "df1.rename(columns= {0 : 'pc1', 1: 'pc2'}, inplace = True)\n",
    "df"
   ]
  },
  {
   "cell_type": "markdown",
   "metadata": {},
   "source": [
    "Create a labels list. This list will be of size 160. The first 80 elements in the list will be the word `blue`, and the last 80 elements will be `red`. This will ensure that all dog observations will be colored in blue and all cats will be colored in red. Name this list `colors`."
   ]
  },
  {
   "cell_type": "code",
   "execution_count": 86,
   "metadata": {},
   "outputs": [
    {
     "data": {
      "text/plain": [
       "160"
      ]
     },
     "execution_count": 86,
     "metadata": {},
     "output_type": "execute_result"
    }
   ],
   "source": [
    "# Your code here:\n",
    "labels = []\n",
    "\n",
    "for i in range(80):\n",
    "    labels.append('blue')\n",
    "for i in range(80):\n",
    "    labels.append('red')\n",
    "    \n",
    "len(labels)"
   ]
  },
  {
   "cell_type": "markdown",
   "metadata": {},
   "source": [
    "Create a scatter plot of `pc1` and `pc2` below. Use the `colors` list above to color the observations by setting `c=colors`."
   ]
  },
  {
   "cell_type": "code",
   "execution_count": 89,
   "metadata": {},
   "outputs": [
    {
     "data": {
      "image/png": "[encoded data removed]",
      "text/plain": [
       "<Figure size 432x288 with 1 Axes>"
      ]
     },
     "metadata": {
      "needs_background": "light"
     },
     "output_type": "display_data"
    }
   ],
   "source": [
    "# Your code here:\n",
    "\n",
    "df1.plot.scatter(x='pc1', y='pc2', c= labels);"
   ]
  },
  {
   "cell_type": "markdown",
   "metadata": {},
   "source": [
    "Do you see a clear separation between cats and dogs? Write your answer below."
   ]
  },
  {
   "cell_type": "markdown",
   "metadata": {},
   "source": [
    "### Your conclusions here:\n",
    "\n"
   ]
  },
  {
   "cell_type": "code",
   "execution_count": null,
   "metadata": {},
   "outputs": [],
   "source": [
    "#claramente podemos observar al chupacabras (antes) se aprecia una distinción moderada entre los perros y los gatos en el scatter plot.\n",
    "#podemos valorar la distinción seguún me acabas de explicar."
   ]
  }
 ],
 "metadata": {
  "kernelspec": {
   "display_name": "Python 3",
   "language": "python",
   "name": "python3"
  },
  "language_info": {
   "codemirror_mode": {
    "name": "ipython",
    "version": 3
   },
   "file_extension": ".py",
   "mimetype": "text/x-python",
   "name": "python",
   "nbconvert_exporter": "python",
   "pygments_lexer": "ipython3",
   "version": "3.8.5"
  }
 },
 "nbformat": 4,
 "nbformat_minor": 2
}
