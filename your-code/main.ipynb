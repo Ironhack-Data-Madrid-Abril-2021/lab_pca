{
 "cells": [
  {
   "cell_type": "markdown",
   "metadata": {},
   "source": [
    "# Before your start:\n",
    "- Read the README.md file\n",
    "- Comment as much as you can and use the resources (README.md file)\n",
    "- Happy learning!"
   ]
  },
  {
   "cell_type": "code",
   "execution_count": 1,
   "metadata": {},
   "outputs": [],
   "source": [
    "# Run this code:\n",
    "\n",
    "%matplotlib inline\n",
    "\n",
    "import matplotlib.pyplot as plt"
   ]
  },
  {
   "cell_type": "code",
   "execution_count": 3,
   "metadata": {},
   "outputs": [],
   "source": [
    "# Import numpy and pandas:\n",
    "import numpy as np \n",
    "import pandas as pd\n"
   ]
  },
  {
   "cell_type": "markdown",
   "metadata": {},
   "source": [
    "# Challenge 1 - Reading and Standardizing the Data\n",
    "\n",
    "In this challenge we will work with image data and reduce the dimensions of the data to create a 2 dimensional plot. While we have not worked much with image data before, it can be represented as a numpy array where each pixel is assigned a numeric value. In this lesson, we will look at a dataset of cats and a dataset of dogs and see whether reducing them to two dimensions allows us to see if the data is separable. We will start by loading and processing the data. Run the cell below to load the two csv files and convert them into numpy arrays."
   ]
  },
  {
   "cell_type": "code",
   "execution_count": 4,
   "metadata": {},
   "outputs": [],
   "source": [
    "# Run this code\n",
    "\n",
    "cats = np.array(pd.read_csv(\"https://raw.githubusercontent.com/bioramble/pca/master/cat.csv\", header=None))\n",
    "dogs = np.array(pd.read_csv(\"https://raw.githubusercontent.com/bioramble/pca/master/dog.csv\", header=None))"
   ]
  },
  {
   "cell_type": "markdown",
   "metadata": {},
   "source": [
    "Next, we'll examine the shape of both the cats and the dogs arrays. Print out both shapes below."
   ]
  },
  {
   "cell_type": "code",
   "execution_count": 8,
   "metadata": {},
   "outputs": [
    {
     "output_type": "execute_result",
     "data": {
      "text/plain": [
       "(4096, 80)"
      ]
     },
     "metadata": {},
     "execution_count": 8
    }
   ],
   "source": [
    "cats.shape"
   ]
  },
  {
   "cell_type": "code",
   "execution_count": 9,
   "metadata": {},
   "outputs": [
    {
     "output_type": "execute_result",
     "data": {
      "text/plain": [
       "(4096, 80)"
      ]
     },
     "metadata": {},
     "execution_count": 9
    }
   ],
   "source": [
    "dogs.shape"
   ]
  },
  {
   "cell_type": "markdown",
   "metadata": {},
   "source": [
    "What this means is that both arrays contain 80 images each (the number of columns). Each image is comprised of 64x64 pixels (so a total of 4096 pixels per image). The images have been flattened such that all 4096 are in a single row.\n",
    "\n",
    "Print out column 0 of the cats array to see what the pixels values look like."
   ]
  },
  {
   "cell_type": "code",
   "execution_count": 10,
   "metadata": {},
   "outputs": [
    {
     "output_type": "execute_result",
     "data": {
      "text/plain": [
       "array([ 64,  23, 250, 137,  55, 173,  18, 134,  19,  47, 109, 164,  41,\n",
       "        78, 108, 108, 247, 105, 158,  54, 103,   4,  23, 102, 239,  72,\n",
       "        42,  21, 168, 109, 112, 177,  22, 233,  15, 236, 250, 137,  32,\n",
       "         5, 178, 109,  24, 107,  53, 241, 226, 143,   5, 136,  98, 100,\n",
       "        89,  66, 228,  92, 255,  88, 230,  56, 160,  69,   6,  24, 195,\n",
       "       183, 239,  35, 154, 154, 122,  18,  87, 106, 174,  69,  28,  60,\n",
       "       223, 101])"
      ]
     },
     "metadata": {},
     "execution_count": 10
    }
   ],
   "source": [
    "cats[0]\n",
    "\n"
   ]
  },
  {
   "cell_type": "markdown",
   "metadata": {},
   "source": [
    "Using `matplotlib` we can plot a single cat or a single dog. We do this by reshaping the vector back to a 64x64 image and then using the `imshow` function.\n",
    "\n",
    "Run the code below to look at the first dog and the first cat."
   ]
  },
  {
   "cell_type": "code",
   "execution_count": 11,
   "metadata": {},
   "outputs": [
    {
     "output_type": "execute_result",
     "data": {
      "text/plain": [
       "<matplotlib.image.AxesImage at 0x7fc4c0230df0>"
      ]
     },
     "metadata": {},
     "execution_count": 11
    },
    {
     "output_type": "display_data",
     "data": {
      "text/plain": "<Figure size 432x288 with 1 Axes>",
      "image/svg+xml": "<?xml version=\"1.0\" encoding=\"utf-8\" standalone=\"no\"?>\n<!DOCTYPE svg PUBLIC \"-//W3C//DTD SVG 1.1//EN\"\n  \"http://www.w3.org/Graphics/SVG/1.1/DTD/svg11.dtd\">\n<!-- Created with matplotlib (https://matplotlib.org/) -->\n<svg height=\"250.618594pt\" version=\"1.1\" viewBox=\"0 0 251.565 250.618594\" width=\"251.565pt\" xmlns=\"http://www.w3.org/2000/svg\" xmlns:xlink=\"http://www.w3.org/1999/xlink\">\n <metadata>\n  <rdf:RDF xmlns:cc=\"http://creativecommons.org/ns#\" xmlns:dc=\"http://purl.org/dc/elements/1.1/\" xmlns:rdf=\"http://www.w3.org/1999/02/22-rdf-syntax-ns#\">\n   <cc:Work>\n    <dc:type rdf:resource=\"http://purl.org/dc/dcmitype/StillImage\"/>\n    <dc:date>2021-05-26T16:24:24.179724</dc:date>\n    <dc:format>image/svg+xml</dc:format>\n    <dc:creator>\n     <cc:Agent>\n      <dc:title>Matplotlib v3.3.2, https://matplotlib.org/</dc:title>\n     </cc:Agent>\n    </dc:creator>\n   </cc:Work>\n  </rdf:RDF>\n </metadata>\n <defs>\n  <style type=\"text/css\">*{stroke-linecap:butt;stroke-linejoin:round;}</style>\n </defs>\n <g id=\"figure_1\">\n  <g id=\"patch_1\">\n   <path d=\"M 0 250.618594 \nL 251.565 250.618594 \nL 251.565 0 \nL 0 0 \nz\n\" style=\"fill:none;\"/>\n  </g>\n  <g id=\"axes_1\">\n   <g id=\"patch_2\">\n    <path d=\"M 26.925 226.740469 \nL 244.365 226.740469 \nL 244.365 9.300469 \nL 26.925 9.300469 \nz\n\" style=\"fill:#ffffff;\"/>\n   </g>\n   <g clip-path=\"url(#p83527e2f65)\">\n    <image height=\"218\" id=\"image90641f6b26\" transform=\"scale(1 -1)translate(0 -218)\" width=\"218\" x=\"26.925\" xlink:href=\"data:image/png;base64,\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\" y=\"-8.740469\"/>\n   </g>\n   <g id=\"matplotlib.axis_1\">\n    <g id=\"xtick_1\">\n     <g id=\"line2d_1\">\n      <defs>\n       <path d=\"M 0 0 \nL 0 3.5 \n\" id=\"m6a74822a90\" style=\"stroke:#000000;stroke-width:0.8;\"/>\n      </defs>\n      <g>\n       <use style=\"stroke:#000000;stroke-width:0.8;\" x=\"28.62375\" xlink:href=\"#m6a74822a90\" y=\"226.740469\"/>\n      </g>\n     </g>\n     <g id=\"text_1\">\n      <!-- 0 -->\n      <g transform=\"translate(25.4425 241.338906)scale(0.1 -0.1)\">\n       <defs>\n        <path d=\"M 31.78125 66.40625 \nQ 24.171875 66.40625 20.328125 58.90625 \nQ 16.5 51.421875 16.5 36.375 \nQ 16.5 21.390625 20.328125 13.890625 \nQ 24.171875 6.390625 31.78125 6.390625 \nQ 39.453125 6.390625 43.28125 13.890625 \nQ 47.125 21.390625 47.125 36.375 \nQ 47.125 51.421875 43.28125 58.90625 \nQ 39.453125 66.40625 31.78125 66.40625 \nz\nM 31.78125 74.21875 \nQ 44.046875 74.21875 50.515625 64.515625 \nQ 56.984375 54.828125 56.984375 36.375 \nQ 56.984375 17.96875 50.515625 8.265625 \nQ 44.046875 -1.421875 31.78125 -1.421875 \nQ 19.53125 -1.421875 13.0625 8.265625 \nQ 6.59375 17.96875 6.59375 36.375 \nQ 6.59375 54.828125 13.0625 64.515625 \nQ 19.53125 74.21875 31.78125 74.21875 \nz\n\" id=\"DejaVuSans-48\"/>\n       </defs>\n       <use xlink:href=\"#DejaVuSans-48\"/>\n      </g>\n     </g>\n    </g>\n    <g id=\"xtick_2\">\n     <g id=\"line2d_2\">\n      <g>\n       <use style=\"stroke:#000000;stroke-width:0.8;\" x=\"62.59875\" xlink:href=\"#m6a74822a90\" y=\"226.740469\"/>\n      </g>\n     </g>\n     <g id=\"text_2\">\n      <!-- 10 -->\n      <g transform=\"translate(56.23625 241.338906)scale(0.1 -0.1)\">\n       <defs>\n        <path d=\"M 12.40625 8.296875 \nL 28.515625 8.296875 \nL 28.515625 63.921875 \nL 10.984375 60.40625 \nL 10.984375 69.390625 \nL 28.421875 72.90625 \nL 38.28125 72.90625 \nL 38.28125 8.296875 \nL 54.390625 8.296875 \nL 54.390625 0 \nL 12.40625 0 \nz\n\" id=\"DejaVuSans-49\"/>\n       </defs>\n       <use xlink:href=\"#DejaVuSans-49\"/>\n       <use x=\"63.623047\" xlink:href=\"#DejaVuSans-48\"/>\n      </g>\n     </g>\n    </g>\n    <g id=\"xtick_3\">\n     <g id=\"line2d_3\">\n      <g>\n       <use style=\"stroke:#000000;stroke-width:0.8;\" x=\"96.57375\" xlink:href=\"#m6a74822a90\" y=\"226.740469\"/>\n      </g>\n     </g>\n     <g id=\"text_3\">\n      <!-- 20 -->\n      <g transform=\"translate(90.21125 241.338906)scale(0.1 -0.1)\">\n       <defs>\n        <path d=\"M 19.1875 8.296875 \nL 53.609375 8.296875 \nL 53.609375 0 \nL 7.328125 0 \nL 7.328125 8.296875 \nQ 12.9375 14.109375 22.625 23.890625 \nQ 32.328125 33.6875 34.8125 36.53125 \nQ 39.546875 41.84375 41.421875 45.53125 \nQ 43.3125 49.21875 43.3125 52.78125 \nQ 43.3125 58.59375 39.234375 62.25 \nQ 35.15625 65.921875 28.609375 65.921875 \nQ 23.96875 65.921875 18.8125 64.3125 \nQ 13.671875 62.703125 7.8125 59.421875 \nL 7.8125 69.390625 \nQ 13.765625 71.78125 18.9375 73 \nQ 24.125 74.21875 28.421875 74.21875 \nQ 39.75 74.21875 46.484375 68.546875 \nQ 53.21875 62.890625 53.21875 53.421875 \nQ 53.21875 48.921875 51.53125 44.890625 \nQ 49.859375 40.875 45.40625 35.40625 \nQ 44.1875 33.984375 37.640625 27.21875 \nQ 31.109375 20.453125 19.1875 8.296875 \nz\n\" id=\"DejaVuSans-50\"/>\n       </defs>\n       <use xlink:href=\"#DejaVuSans-50\"/>\n       <use x=\"63.623047\" xlink:href=\"#DejaVuSans-48\"/>\n      </g>\n     </g>\n    </g>\n    <g id=\"xtick_4\">\n     <g id=\"line2d_4\">\n      <g>\n       <use style=\"stroke:#000000;stroke-width:0.8;\" x=\"130.54875\" xlink:href=\"#m6a74822a90\" y=\"226.740469\"/>\n      </g>\n     </g>\n     <g id=\"text_4\">\n      <!-- 30 -->\n      <g transform=\"translate(124.18625 241.338906)scale(0.1 -0.1)\">\n       <defs>\n        <path d=\"M 40.578125 39.3125 \nQ 47.65625 37.796875 51.625 33 \nQ 55.609375 28.21875 55.609375 21.1875 \nQ 55.609375 10.40625 48.1875 4.484375 \nQ 40.765625 -1.421875 27.09375 -1.421875 \nQ 22.515625 -1.421875 17.65625 -0.515625 \nQ 12.796875 0.390625 7.625 2.203125 \nL 7.625 11.71875 \nQ 11.71875 9.328125 16.59375 8.109375 \nQ 21.484375 6.890625 26.8125 6.890625 \nQ 36.078125 6.890625 40.9375 10.546875 \nQ 45.796875 14.203125 45.796875 21.1875 \nQ 45.796875 27.640625 41.28125 31.265625 \nQ 36.765625 34.90625 28.71875 34.90625 \nL 20.21875 34.90625 \nL 20.21875 43.015625 \nL 29.109375 43.015625 \nQ 36.375 43.015625 40.234375 45.921875 \nQ 44.09375 48.828125 44.09375 54.296875 \nQ 44.09375 59.90625 40.109375 62.90625 \nQ 36.140625 65.921875 28.71875 65.921875 \nQ 24.65625 65.921875 20.015625 65.03125 \nQ 15.375 64.15625 9.8125 62.3125 \nL 9.8125 71.09375 \nQ 15.4375 72.65625 20.34375 73.4375 \nQ 25.25 74.21875 29.59375 74.21875 \nQ 40.828125 74.21875 47.359375 69.109375 \nQ 53.90625 64.015625 53.90625 55.328125 \nQ 53.90625 49.265625 50.4375 45.09375 \nQ 46.96875 40.921875 40.578125 39.3125 \nz\n\" id=\"DejaVuSans-51\"/>\n       </defs>\n       <use xlink:href=\"#DejaVuSans-51\"/>\n       <use x=\"63.623047\" xlink:href=\"#DejaVuSans-48\"/>\n      </g>\n     </g>\n    </g>\n    <g id=\"xtick_5\">\n     <g id=\"line2d_5\">\n      <g>\n       <use style=\"stroke:#000000;stroke-width:0.8;\" x=\"164.52375\" xlink:href=\"#m6a74822a90\" y=\"226.740469\"/>\n      </g>\n     </g>\n     <g id=\"text_5\">\n      <!-- 40 -->\n      <g transform=\"translate(158.16125 241.338906)scale(0.1 -0.1)\">\n       <defs>\n        <path d=\"M 37.796875 64.3125 \nL 12.890625 25.390625 \nL 37.796875 25.390625 \nz\nM 35.203125 72.90625 \nL 47.609375 72.90625 \nL 47.609375 25.390625 \nL 58.015625 25.390625 \nL 58.015625 17.1875 \nL 47.609375 17.1875 \nL 47.609375 0 \nL 37.796875 0 \nL 37.796875 17.1875 \nL 4.890625 17.1875 \nL 4.890625 26.703125 \nz\n\" id=\"DejaVuSans-52\"/>\n       </defs>\n       <use xlink:href=\"#DejaVuSans-52\"/>\n       <use x=\"63.623047\" xlink:href=\"#DejaVuSans-48\"/>\n      </g>\n     </g>\n    </g>\n    <g id=\"xtick_6\">\n     <g id=\"line2d_6\">\n      <g>\n       <use style=\"stroke:#000000;stroke-width:0.8;\" x=\"198.49875\" xlink:href=\"#m6a74822a90\" y=\"226.740469\"/>\n      </g>\n     </g>\n     <g id=\"text_6\">\n      <!-- 50 -->\n      <g transform=\"translate(192.13625 241.338906)scale(0.1 -0.1)\">\n       <defs>\n        <path d=\"M 10.796875 72.90625 \nL 49.515625 72.90625 \nL 49.515625 64.59375 \nL 19.828125 64.59375 \nL 19.828125 46.734375 \nQ 21.96875 47.46875 24.109375 47.828125 \nQ 26.265625 48.1875 28.421875 48.1875 \nQ 40.625 48.1875 47.75 41.5 \nQ 54.890625 34.8125 54.890625 23.390625 \nQ 54.890625 11.625 47.5625 5.09375 \nQ 40.234375 -1.421875 26.90625 -1.421875 \nQ 22.3125 -1.421875 17.546875 -0.640625 \nQ 12.796875 0.140625 7.71875 1.703125 \nL 7.71875 11.625 \nQ 12.109375 9.234375 16.796875 8.0625 \nQ 21.484375 6.890625 26.703125 6.890625 \nQ 35.15625 6.890625 40.078125 11.328125 \nQ 45.015625 15.765625 45.015625 23.390625 \nQ 45.015625 31 40.078125 35.4375 \nQ 35.15625 39.890625 26.703125 39.890625 \nQ 22.75 39.890625 18.8125 39.015625 \nQ 14.890625 38.140625 10.796875 36.28125 \nz\n\" id=\"DejaVuSans-53\"/>\n       </defs>\n       <use xlink:href=\"#DejaVuSans-53\"/>\n       <use x=\"63.623047\" xlink:href=\"#DejaVuSans-48\"/>\n      </g>\n     </g>\n    </g>\n    <g id=\"xtick_7\">\n     <g id=\"line2d_7\">\n      <g>\n       <use style=\"stroke:#000000;stroke-width:0.8;\" x=\"232.47375\" xlink:href=\"#m6a74822a90\" y=\"226.740469\"/>\n      </g>\n     </g>\n     <g id=\"text_7\">\n      <!-- 60 -->\n      <g transform=\"translate(226.11125 241.338906)scale(0.1 -0.1)\">\n       <defs>\n        <path d=\"M 33.015625 40.375 \nQ 26.375 40.375 22.484375 35.828125 \nQ 18.609375 31.296875 18.609375 23.390625 \nQ 18.609375 15.53125 22.484375 10.953125 \nQ 26.375 6.390625 33.015625 6.390625 \nQ 39.65625 6.390625 43.53125 10.953125 \nQ 47.40625 15.53125 47.40625 23.390625 \nQ 47.40625 31.296875 43.53125 35.828125 \nQ 39.65625 40.375 33.015625 40.375 \nz\nM 52.59375 71.296875 \nL 52.59375 62.3125 \nQ 48.875 64.0625 45.09375 64.984375 \nQ 41.3125 65.921875 37.59375 65.921875 \nQ 27.828125 65.921875 22.671875 59.328125 \nQ 17.53125 52.734375 16.796875 39.40625 \nQ 19.671875 43.65625 24.015625 45.921875 \nQ 28.375 48.1875 33.59375 48.1875 \nQ 44.578125 48.1875 50.953125 41.515625 \nQ 57.328125 34.859375 57.328125 23.390625 \nQ 57.328125 12.15625 50.6875 5.359375 \nQ 44.046875 -1.421875 33.015625 -1.421875 \nQ 20.359375 -1.421875 13.671875 8.265625 \nQ 6.984375 17.96875 6.984375 36.375 \nQ 6.984375 53.65625 15.1875 63.9375 \nQ 23.390625 74.21875 37.203125 74.21875 \nQ 40.921875 74.21875 44.703125 73.484375 \nQ 48.484375 72.75 52.59375 71.296875 \nz\n\" id=\"DejaVuSans-54\"/>\n       </defs>\n       <use xlink:href=\"#DejaVuSans-54\"/>\n       <use x=\"63.623047\" xlink:href=\"#DejaVuSans-48\"/>\n      </g>\n     </g>\n    </g>\n   </g>\n   <g id=\"matplotlib.axis_2\">\n    <g id=\"ytick_1\">\n     <g id=\"line2d_8\">\n      <defs>\n       <path d=\"M 0 0 \nL -3.5 0 \n\" id=\"mf65f4aabd2\" style=\"stroke:#000000;stroke-width:0.8;\"/>\n      </defs>\n      <g>\n       <use style=\"stroke:#000000;stroke-width:0.8;\" x=\"26.925\" xlink:href=\"#mf65f4aabd2\" y=\"10.999219\"/>\n      </g>\n     </g>\n     <g id=\"text_8\">\n      <!-- 0 -->\n      <g transform=\"translate(13.5625 14.798437)scale(0.1 -0.1)\">\n       <use xlink:href=\"#DejaVuSans-48\"/>\n      </g>\n     </g>\n    </g>\n    <g id=\"ytick_2\">\n     <g id=\"line2d_9\">\n      <g>\n       <use style=\"stroke:#000000;stroke-width:0.8;\" x=\"26.925\" xlink:href=\"#mf65f4aabd2\" y=\"44.974219\"/>\n      </g>\n     </g>\n     <g id=\"text_9\">\n      <!-- 10 -->\n      <g transform=\"translate(7.2 48.773437)scale(0.1 -0.1)\">\n       <use xlink:href=\"#DejaVuSans-49\"/>\n       <use x=\"63.623047\" xlink:href=\"#DejaVuSans-48\"/>\n      </g>\n     </g>\n    </g>\n    <g id=\"ytick_3\">\n     <g id=\"line2d_10\">\n      <g>\n       <use style=\"stroke:#000000;stroke-width:0.8;\" x=\"26.925\" xlink:href=\"#mf65f4aabd2\" y=\"78.949219\"/>\n      </g>\n     </g>\n     <g id=\"text_10\">\n      <!-- 20 -->\n      <g transform=\"translate(7.2 82.748437)scale(0.1 -0.1)\">\n       <use xlink:href=\"#DejaVuSans-50\"/>\n       <use x=\"63.623047\" xlink:href=\"#DejaVuSans-48\"/>\n      </g>\n     </g>\n    </g>\n    <g id=\"ytick_4\">\n     <g id=\"line2d_11\">\n      <g>\n       <use style=\"stroke:#000000;stroke-width:0.8;\" x=\"26.925\" xlink:href=\"#mf65f4aabd2\" y=\"112.924219\"/>\n      </g>\n     </g>\n     <g id=\"text_11\">\n      <!-- 30 -->\n      <g transform=\"translate(7.2 116.723437)scale(0.1 -0.1)\">\n       <use xlink:href=\"#DejaVuSans-51\"/>\n       <use x=\"63.623047\" xlink:href=\"#DejaVuSans-48\"/>\n      </g>\n     </g>\n    </g>\n    <g id=\"ytick_5\">\n     <g id=\"line2d_12\">\n      <g>\n       <use style=\"stroke:#000000;stroke-width:0.8;\" x=\"26.925\" xlink:href=\"#mf65f4aabd2\" y=\"146.899219\"/>\n      </g>\n     </g>\n     <g id=\"text_12\">\n      <!-- 40 -->\n      <g transform=\"translate(7.2 150.698437)scale(0.1 -0.1)\">\n       <use xlink:href=\"#DejaVuSans-52\"/>\n       <use x=\"63.623047\" xlink:href=\"#DejaVuSans-48\"/>\n      </g>\n     </g>\n    </g>\n    <g id=\"ytick_6\">\n     <g id=\"line2d_13\">\n      <g>\n       <use style=\"stroke:#000000;stroke-width:0.8;\" x=\"26.925\" xlink:href=\"#mf65f4aabd2\" y=\"180.874219\"/>\n      </g>\n     </g>\n     <g id=\"text_13\">\n      <!-- 50 -->\n      <g transform=\"translate(7.2 184.673437)scale(0.1 -0.1)\">\n       <use xlink:href=\"#DejaVuSans-53\"/>\n       <use x=\"63.623047\" xlink:href=\"#DejaVuSans-48\"/>\n      </g>\n     </g>\n    </g>\n    <g id=\"ytick_7\">\n     <g id=\"line2d_14\">\n      <g>\n       <use style=\"stroke:#000000;stroke-width:0.8;\" x=\"26.925\" xlink:href=\"#mf65f4aabd2\" y=\"214.849219\"/>\n      </g>\n     </g>\n     <g id=\"text_14\">\n      <!-- 60 -->\n      <g transform=\"translate(7.2 218.648437)scale(0.1 -0.1)\">\n       <use xlink:href=\"#DejaVuSans-54\"/>\n       <use x=\"63.623047\" xlink:href=\"#DejaVuSans-48\"/>\n      </g>\n     </g>\n    </g>\n   </g>\n   <g id=\"patch_3\">\n    <path d=\"M 26.925 226.740469 \nL 26.925 9.300469 \n\" style=\"fill:none;stroke:#000000;stroke-linecap:square;stroke-linejoin:miter;stroke-width:0.8;\"/>\n   </g>\n   <g id=\"patch_4\">\n    <path d=\"M 244.365 226.740469 \nL 244.365 9.300469 \n\" style=\"fill:none;stroke:#000000;stroke-linecap:square;stroke-linejoin:miter;stroke-width:0.8;\"/>\n   </g>\n   <g id=\"patch_5\">\n    <path d=\"M 26.925 226.740469 \nL 244.365 226.740469 \n\" style=\"fill:none;stroke:#000000;stroke-linecap:square;stroke-linejoin:miter;stroke-width:0.8;\"/>\n   </g>\n   <g id=\"patch_6\">\n    <path d=\"M 26.925 9.300469 \nL 244.365 9.300469 \n\" style=\"fill:none;stroke:#000000;stroke-linecap:square;stroke-linejoin:miter;stroke-width:0.8;\"/>\n   </g>\n  </g>\n </g>\n <defs>\n  <clipPath id=\"p83527e2f65\">\n   <rect height=\"217.44\" width=\"217.44\" x=\"26.925\" y=\"9.300469\"/>\n  </clipPath>\n </defs>\n</svg>\n",
      "image/png": "[encoded data removed]"
     },
     "metadata": {
      "needs_background": "light"
     }
    }
   ],
   "source": [
    "# Run this code:\n",
    "\n",
    "fig, ax = plt.subplots()\n",
    "ax.imshow(cats[:,0].reshape(64, 64).T, cmap=plt.cm.bone, interpolation='nearest') "
   ]
  },
  {
   "cell_type": "code",
   "execution_count": 12,
   "metadata": {},
   "outputs": [
    {
     "output_type": "execute_result",
     "data": {
      "text/plain": [
       "<matplotlib.image.AxesImage at 0x7fc4f102f9d0>"
      ]
     },
     "metadata": {},
     "execution_count": 12
    },
    {
     "output_type": "display_data",
     "data": {
      "text/plain": "<Figure size 432x288 with 1 Axes>",
      "image/svg+xml": "<?xml version=\"1.0\" encoding=\"utf-8\" standalone=\"no\"?>\n<!DOCTYPE svg PUBLIC \"-//W3C//DTD SVG 1.1//EN\"\n  \"http://www.w3.org/Graphics/SVG/1.1/DTD/svg11.dtd\">\n<!-- Created with matplotlib (https://matplotlib.org/) -->\n<svg height=\"250.618594pt\" version=\"1.1\" viewBox=\"0 0 251.565 250.618594\" width=\"251.565pt\" xmlns=\"http://www.w3.org/2000/svg\" xmlns:xlink=\"http://www.w3.org/1999/xlink\">\n <metadata>\n  <rdf:RDF xmlns:cc=\"http://creativecommons.org/ns#\" xmlns:dc=\"http://purl.org/dc/elements/1.1/\" xmlns:rdf=\"http://www.w3.org/1999/02/22-rdf-syntax-ns#\">\n   <cc:Work>\n    <dc:type rdf:resource=\"http://purl.org/dc/dcmitype/StillImage\"/>\n    <dc:date>2021-05-26T16:24:27.639514</dc:date>\n    <dc:format>image/svg+xml</dc:format>\n    <dc:creator>\n     <cc:Agent>\n      <dc:title>Matplotlib v3.3.2, https://matplotlib.org/</dc:title>\n     </cc:Agent>\n    </dc:creator>\n   </cc:Work>\n  </rdf:RDF>\n </metadata>\n <defs>\n  <style type=\"text/css\">*{stroke-linecap:butt;stroke-linejoin:round;}</style>\n </defs>\n <g id=\"figure_1\">\n  <g id=\"patch_1\">\n   <path d=\"M 0 250.618594 \nL 251.565 250.618594 \nL 251.565 0 \nL 0 0 \nz\n\" style=\"fill:none;\"/>\n  </g>\n  <g id=\"axes_1\">\n   <g id=\"patch_2\">\n    <path d=\"M 26.925 226.740469 \nL 244.365 226.740469 \nL 244.365 9.300469 \nL 26.925 9.300469 \nz\n\" style=\"fill:#ffffff;\"/>\n   </g>\n   <g clip-path=\"url(#p89d1e46955)\">\n    <image height=\"218\" id=\"imageafc64c7d44\" transform=\"scale(1 -1)translate(0 -218)\" width=\"218\" x=\"26.925\" xlink:href=\"data:image/png;base64,\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\" y=\"-8.740469\"/>\n   </g>\n   <g id=\"matplotlib.axis_1\">\n    <g id=\"xtick_1\">\n     <g id=\"line2d_1\">\n      <defs>\n       <path d=\"M 0 0 \nL 0 3.5 \n\" id=\"m0ae2ea3a58\" style=\"stroke:#000000;stroke-width:0.8;\"/>\n      </defs>\n      <g>\n       <use style=\"stroke:#000000;stroke-width:0.8;\" x=\"28.62375\" xlink:href=\"#m0ae2ea3a58\" y=\"226.740469\"/>\n      </g>\n     </g>\n     <g id=\"text_1\">\n      <!-- 0 -->\n      <g transform=\"translate(25.4425 241.338906)scale(0.1 -0.1)\">\n       <defs>\n        <path d=\"M 31.78125 66.40625 \nQ 24.171875 66.40625 20.328125 58.90625 \nQ 16.5 51.421875 16.5 36.375 \nQ 16.5 21.390625 20.328125 13.890625 \nQ 24.171875 6.390625 31.78125 6.390625 \nQ 39.453125 6.390625 43.28125 13.890625 \nQ 47.125 21.390625 47.125 36.375 \nQ 47.125 51.421875 43.28125 58.90625 \nQ 39.453125 66.40625 31.78125 66.40625 \nz\nM 31.78125 74.21875 \nQ 44.046875 74.21875 50.515625 64.515625 \nQ 56.984375 54.828125 56.984375 36.375 \nQ 56.984375 17.96875 50.515625 8.265625 \nQ 44.046875 -1.421875 31.78125 -1.421875 \nQ 19.53125 -1.421875 13.0625 8.265625 \nQ 6.59375 17.96875 6.59375 36.375 \nQ 6.59375 54.828125 13.0625 64.515625 \nQ 19.53125 74.21875 31.78125 74.21875 \nz\n\" id=\"DejaVuSans-48\"/>\n       </defs>\n       <use xlink:href=\"#DejaVuSans-48\"/>\n      </g>\n     </g>\n    </g>\n    <g id=\"xtick_2\">\n     <g id=\"line2d_2\">\n      <g>\n       <use style=\"stroke:#000000;stroke-width:0.8;\" x=\"62.59875\" xlink:href=\"#m0ae2ea3a58\" y=\"226.740469\"/>\n      </g>\n     </g>\n     <g id=\"text_2\">\n      <!-- 10 -->\n      <g transform=\"translate(56.23625 241.338906)scale(0.1 -0.1)\">\n       <defs>\n        <path d=\"M 12.40625 8.296875 \nL 28.515625 8.296875 \nL 28.515625 63.921875 \nL 10.984375 60.40625 \nL 10.984375 69.390625 \nL 28.421875 72.90625 \nL 38.28125 72.90625 \nL 38.28125 8.296875 \nL 54.390625 8.296875 \nL 54.390625 0 \nL 12.40625 0 \nz\n\" id=\"DejaVuSans-49\"/>\n       </defs>\n       <use xlink:href=\"#DejaVuSans-49\"/>\n       <use x=\"63.623047\" xlink:href=\"#DejaVuSans-48\"/>\n      </g>\n     </g>\n    </g>\n    <g id=\"xtick_3\">\n     <g id=\"line2d_3\">\n      <g>\n       <use style=\"stroke:#000000;stroke-width:0.8;\" x=\"96.57375\" xlink:href=\"#m0ae2ea3a58\" y=\"226.740469\"/>\n      </g>\n     </g>\n     <g id=\"text_3\">\n      <!-- 20 -->\n      <g transform=\"translate(90.21125 241.338906)scale(0.1 -0.1)\">\n       <defs>\n        <path d=\"M 19.1875 8.296875 \nL 53.609375 8.296875 \nL 53.609375 0 \nL 7.328125 0 \nL 7.328125 8.296875 \nQ 12.9375 14.109375 22.625 23.890625 \nQ 32.328125 33.6875 34.8125 36.53125 \nQ 39.546875 41.84375 41.421875 45.53125 \nQ 43.3125 49.21875 43.3125 52.78125 \nQ 43.3125 58.59375 39.234375 62.25 \nQ 35.15625 65.921875 28.609375 65.921875 \nQ 23.96875 65.921875 18.8125 64.3125 \nQ 13.671875 62.703125 7.8125 59.421875 \nL 7.8125 69.390625 \nQ 13.765625 71.78125 18.9375 73 \nQ 24.125 74.21875 28.421875 74.21875 \nQ 39.75 74.21875 46.484375 68.546875 \nQ 53.21875 62.890625 53.21875 53.421875 \nQ 53.21875 48.921875 51.53125 44.890625 \nQ 49.859375 40.875 45.40625 35.40625 \nQ 44.1875 33.984375 37.640625 27.21875 \nQ 31.109375 20.453125 19.1875 8.296875 \nz\n\" id=\"DejaVuSans-50\"/>\n       </defs>\n       <use xlink:href=\"#DejaVuSans-50\"/>\n       <use x=\"63.623047\" xlink:href=\"#DejaVuSans-48\"/>\n      </g>\n     </g>\n    </g>\n    <g id=\"xtick_4\">\n     <g id=\"line2d_4\">\n      <g>\n       <use style=\"stroke:#000000;stroke-width:0.8;\" x=\"130.54875\" xlink:href=\"#m0ae2ea3a58\" y=\"226.740469\"/>\n      </g>\n     </g>\n     <g id=\"text_4\">\n      <!-- 30 -->\n      <g transform=\"translate(124.18625 241.338906)scale(0.1 -0.1)\">\n       <defs>\n        <path d=\"M 40.578125 39.3125 \nQ 47.65625 37.796875 51.625 33 \nQ 55.609375 28.21875 55.609375 21.1875 \nQ 55.609375 10.40625 48.1875 4.484375 \nQ 40.765625 -1.421875 27.09375 -1.421875 \nQ 22.515625 -1.421875 17.65625 -0.515625 \nQ 12.796875 0.390625 7.625 2.203125 \nL 7.625 11.71875 \nQ 11.71875 9.328125 16.59375 8.109375 \nQ 21.484375 6.890625 26.8125 6.890625 \nQ 36.078125 6.890625 40.9375 10.546875 \nQ 45.796875 14.203125 45.796875 21.1875 \nQ 45.796875 27.640625 41.28125 31.265625 \nQ 36.765625 34.90625 28.71875 34.90625 \nL 20.21875 34.90625 \nL 20.21875 43.015625 \nL 29.109375 43.015625 \nQ 36.375 43.015625 40.234375 45.921875 \nQ 44.09375 48.828125 44.09375 54.296875 \nQ 44.09375 59.90625 40.109375 62.90625 \nQ 36.140625 65.921875 28.71875 65.921875 \nQ 24.65625 65.921875 20.015625 65.03125 \nQ 15.375 64.15625 9.8125 62.3125 \nL 9.8125 71.09375 \nQ 15.4375 72.65625 20.34375 73.4375 \nQ 25.25 74.21875 29.59375 74.21875 \nQ 40.828125 74.21875 47.359375 69.109375 \nQ 53.90625 64.015625 53.90625 55.328125 \nQ 53.90625 49.265625 50.4375 45.09375 \nQ 46.96875 40.921875 40.578125 39.3125 \nz\n\" id=\"DejaVuSans-51\"/>\n       </defs>\n       <use xlink:href=\"#DejaVuSans-51\"/>\n       <use x=\"63.623047\" xlink:href=\"#DejaVuSans-48\"/>\n      </g>\n     </g>\n    </g>\n    <g id=\"xtick_5\">\n     <g id=\"line2d_5\">\n      <g>\n       <use style=\"stroke:#000000;stroke-width:0.8;\" x=\"164.52375\" xlink:href=\"#m0ae2ea3a58\" y=\"226.740469\"/>\n      </g>\n     </g>\n     <g id=\"text_5\">\n      <!-- 40 -->\n      <g transform=\"translate(158.16125 241.338906)scale(0.1 -0.1)\">\n       <defs>\n        <path d=\"M 37.796875 64.3125 \nL 12.890625 25.390625 \nL 37.796875 25.390625 \nz\nM 35.203125 72.90625 \nL 47.609375 72.90625 \nL 47.609375 25.390625 \nL 58.015625 25.390625 \nL 58.015625 17.1875 \nL 47.609375 17.1875 \nL 47.609375 0 \nL 37.796875 0 \nL 37.796875 17.1875 \nL 4.890625 17.1875 \nL 4.890625 26.703125 \nz\n\" id=\"DejaVuSans-52\"/>\n       </defs>\n       <use xlink:href=\"#DejaVuSans-52\"/>\n       <use x=\"63.623047\" xlink:href=\"#DejaVuSans-48\"/>\n      </g>\n     </g>\n    </g>\n    <g id=\"xtick_6\">\n     <g id=\"line2d_6\">\n      <g>\n       <use style=\"stroke:#000000;stroke-width:0.8;\" x=\"198.49875\" xlink:href=\"#m0ae2ea3a58\" y=\"226.740469\"/>\n      </g>\n     </g>\n     <g id=\"text_6\">\n      <!-- 50 -->\n      <g transform=\"translate(192.13625 241.338906)scale(0.1 -0.1)\">\n       <defs>\n        <path d=\"M 10.796875 72.90625 \nL 49.515625 72.90625 \nL 49.515625 64.59375 \nL 19.828125 64.59375 \nL 19.828125 46.734375 \nQ 21.96875 47.46875 24.109375 47.828125 \nQ 26.265625 48.1875 28.421875 48.1875 \nQ 40.625 48.1875 47.75 41.5 \nQ 54.890625 34.8125 54.890625 23.390625 \nQ 54.890625 11.625 47.5625 5.09375 \nQ 40.234375 -1.421875 26.90625 -1.421875 \nQ 22.3125 -1.421875 17.546875 -0.640625 \nQ 12.796875 0.140625 7.71875 1.703125 \nL 7.71875 11.625 \nQ 12.109375 9.234375 16.796875 8.0625 \nQ 21.484375 6.890625 26.703125 6.890625 \nQ 35.15625 6.890625 40.078125 11.328125 \nQ 45.015625 15.765625 45.015625 23.390625 \nQ 45.015625 31 40.078125 35.4375 \nQ 35.15625 39.890625 26.703125 39.890625 \nQ 22.75 39.890625 18.8125 39.015625 \nQ 14.890625 38.140625 10.796875 36.28125 \nz\n\" id=\"DejaVuSans-53\"/>\n       </defs>\n       <use xlink:href=\"#DejaVuSans-53\"/>\n       <use x=\"63.623047\" xlink:href=\"#DejaVuSans-48\"/>\n      </g>\n     </g>\n    </g>\n    <g id=\"xtick_7\">\n     <g id=\"line2d_7\">\n      <g>\n       <use style=\"stroke:#000000;stroke-width:0.8;\" x=\"232.47375\" xlink:href=\"#m0ae2ea3a58\" y=\"226.740469\"/>\n      </g>\n     </g>\n     <g id=\"text_7\">\n      <!-- 60 -->\n      <g transform=\"translate(226.11125 241.338906)scale(0.1 -0.1)\">\n       <defs>\n        <path d=\"M 33.015625 40.375 \nQ 26.375 40.375 22.484375 35.828125 \nQ 18.609375 31.296875 18.609375 23.390625 \nQ 18.609375 15.53125 22.484375 10.953125 \nQ 26.375 6.390625 33.015625 6.390625 \nQ 39.65625 6.390625 43.53125 10.953125 \nQ 47.40625 15.53125 47.40625 23.390625 \nQ 47.40625 31.296875 43.53125 35.828125 \nQ 39.65625 40.375 33.015625 40.375 \nz\nM 52.59375 71.296875 \nL 52.59375 62.3125 \nQ 48.875 64.0625 45.09375 64.984375 \nQ 41.3125 65.921875 37.59375 65.921875 \nQ 27.828125 65.921875 22.671875 59.328125 \nQ 17.53125 52.734375 16.796875 39.40625 \nQ 19.671875 43.65625 24.015625 45.921875 \nQ 28.375 48.1875 33.59375 48.1875 \nQ 44.578125 48.1875 50.953125 41.515625 \nQ 57.328125 34.859375 57.328125 23.390625 \nQ 57.328125 12.15625 50.6875 5.359375 \nQ 44.046875 -1.421875 33.015625 -1.421875 \nQ 20.359375 -1.421875 13.671875 8.265625 \nQ 6.984375 17.96875 6.984375 36.375 \nQ 6.984375 53.65625 15.1875 63.9375 \nQ 23.390625 74.21875 37.203125 74.21875 \nQ 40.921875 74.21875 44.703125 73.484375 \nQ 48.484375 72.75 52.59375 71.296875 \nz\n\" id=\"DejaVuSans-54\"/>\n       </defs>\n       <use xlink:href=\"#DejaVuSans-54\"/>\n       <use x=\"63.623047\" xlink:href=\"#DejaVuSans-48\"/>\n      </g>\n     </g>\n    </g>\n   </g>\n   <g id=\"matplotlib.axis_2\">\n    <g id=\"ytick_1\">\n     <g id=\"line2d_8\">\n      <defs>\n       <path d=\"M 0 0 \nL -3.5 0 \n\" id=\"mfcfb8958e3\" style=\"stroke:#000000;stroke-width:0.8;\"/>\n      </defs>\n      <g>\n       <use style=\"stroke:#000000;stroke-width:0.8;\" x=\"26.925\" xlink:href=\"#mfcfb8958e3\" y=\"10.999219\"/>\n      </g>\n     </g>\n     <g id=\"text_8\">\n      <!-- 0 -->\n      <g transform=\"translate(13.5625 14.798437)scale(0.1 -0.1)\">\n       <use xlink:href=\"#DejaVuSans-48\"/>\n      </g>\n     </g>\n    </g>\n    <g id=\"ytick_2\">\n     <g id=\"line2d_9\">\n      <g>\n       <use style=\"stroke:#000000;stroke-width:0.8;\" x=\"26.925\" xlink:href=\"#mfcfb8958e3\" y=\"44.974219\"/>\n      </g>\n     </g>\n     <g id=\"text_9\">\n      <!-- 10 -->\n      <g transform=\"translate(7.2 48.773437)scale(0.1 -0.1)\">\n       <use xlink:href=\"#DejaVuSans-49\"/>\n       <use x=\"63.623047\" xlink:href=\"#DejaVuSans-48\"/>\n      </g>\n     </g>\n    </g>\n    <g id=\"ytick_3\">\n     <g id=\"line2d_10\">\n      <g>\n       <use style=\"stroke:#000000;stroke-width:0.8;\" x=\"26.925\" xlink:href=\"#mfcfb8958e3\" y=\"78.949219\"/>\n      </g>\n     </g>\n     <g id=\"text_10\">\n      <!-- 20 -->\n      <g transform=\"translate(7.2 82.748437)scale(0.1 -0.1)\">\n       <use xlink:href=\"#DejaVuSans-50\"/>\n       <use x=\"63.623047\" xlink:href=\"#DejaVuSans-48\"/>\n      </g>\n     </g>\n    </g>\n    <g id=\"ytick_4\">\n     <g id=\"line2d_11\">\n      <g>\n       <use style=\"stroke:#000000;stroke-width:0.8;\" x=\"26.925\" xlink:href=\"#mfcfb8958e3\" y=\"112.924219\"/>\n      </g>\n     </g>\n     <g id=\"text_11\">\n      <!-- 30 -->\n      <g transform=\"translate(7.2 116.723437)scale(0.1 -0.1)\">\n       <use xlink:href=\"#DejaVuSans-51\"/>\n       <use x=\"63.623047\" xlink:href=\"#DejaVuSans-48\"/>\n      </g>\n     </g>\n    </g>\n    <g id=\"ytick_5\">\n     <g id=\"line2d_12\">\n      <g>\n       <use style=\"stroke:#000000;stroke-width:0.8;\" x=\"26.925\" xlink:href=\"#mfcfb8958e3\" y=\"146.899219\"/>\n      </g>\n     </g>\n     <g id=\"text_12\">\n      <!-- 40 -->\n      <g transform=\"translate(7.2 150.698437)scale(0.1 -0.1)\">\n       <use xlink:href=\"#DejaVuSans-52\"/>\n       <use x=\"63.623047\" xlink:href=\"#DejaVuSans-48\"/>\n      </g>\n     </g>\n    </g>\n    <g id=\"ytick_6\">\n     <g id=\"line2d_13\">\n      <g>\n       <use style=\"stroke:#000000;stroke-width:0.8;\" x=\"26.925\" xlink:href=\"#mfcfb8958e3\" y=\"180.874219\"/>\n      </g>\n     </g>\n     <g id=\"text_13\">\n      <!-- 50 -->\n      <g transform=\"translate(7.2 184.673437)scale(0.1 -0.1)\">\n       <use xlink:href=\"#DejaVuSans-53\"/>\n       <use x=\"63.623047\" xlink:href=\"#DejaVuSans-48\"/>\n      </g>\n     </g>\n    </g>\n    <g id=\"ytick_7\">\n     <g id=\"line2d_14\">\n      <g>\n       <use style=\"stroke:#000000;stroke-width:0.8;\" x=\"26.925\" xlink:href=\"#mfcfb8958e3\" y=\"214.849219\"/>\n      </g>\n     </g>\n     <g id=\"text_14\">\n      <!-- 60 -->\n      <g transform=\"translate(7.2 218.648437)scale(0.1 -0.1)\">\n       <use xlink:href=\"#DejaVuSans-54\"/>\n       <use x=\"63.623047\" xlink:href=\"#DejaVuSans-48\"/>\n      </g>\n     </g>\n    </g>\n   </g>\n   <g id=\"patch_3\">\n    <path d=\"M 26.925 226.740469 \nL 26.925 9.300469 \n\" style=\"fill:none;stroke:#000000;stroke-linecap:square;stroke-linejoin:miter;stroke-width:0.8;\"/>\n   </g>\n   <g id=\"patch_4\">\n    <path d=\"M 244.365 226.740469 \nL 244.365 9.300469 \n\" style=\"fill:none;stroke:#000000;stroke-linecap:square;stroke-linejoin:miter;stroke-width:0.8;\"/>\n   </g>\n   <g id=\"patch_5\">\n    <path d=\"M 26.925 226.740469 \nL 244.365 226.740469 \n\" style=\"fill:none;stroke:#000000;stroke-linecap:square;stroke-linejoin:miter;stroke-width:0.8;\"/>\n   </g>\n   <g id=\"patch_6\">\n    <path d=\"M 26.925 9.300469 \nL 244.365 9.300469 \n\" style=\"fill:none;stroke:#000000;stroke-linecap:square;stroke-linejoin:miter;stroke-width:0.8;\"/>\n   </g>\n  </g>\n </g>\n <defs>\n  <clipPath id=\"p89d1e46955\">\n   <rect height=\"217.44\" width=\"217.44\" x=\"26.925\" y=\"9.300469\"/>\n  </clipPath>\n </defs>\n</svg>\n",
      "image/png": "[encoded data removed]"
     },
     "metadata": {
      "needs_background": "light"
     }
    }
   ],
   "source": [
    "# Run this code:\n",
    "\n",
    "fig, ax = plt.subplots()\n",
    "ax.imshow(dogs[:,0].reshape(64, 64).T, cmap=plt.cm.bone, interpolation='nearest') "
   ]
  },
  {
   "cell_type": "markdown",
   "metadata": {},
   "source": [
    "Next, we would like to create a standardization function. This function will find the mean and standard deviation of each image. We subtract the mean from each pixel and divide each pixel by the standard deviation. Write the function below.\n",
    "\n",
    "Hint: To find the mean and standard deviation of each image, use `numpy`'s version of mean and stadnard deviation and use `axis=0`."
   ]
  },
  {
   "cell_type": "code",
   "execution_count": 17,
   "metadata": {},
   "outputs": [],
   "source": [
    "from sklearn.preprocessing import StandardScaler"
   ]
  },
  {
   "cell_type": "code",
   "execution_count": 20,
   "metadata": {},
   "outputs": [],
   "source": [
    "def standardize(X):\n",
    "    scaler = StandardScaler()\n",
    "    scaled_data = scaler.fit_transform(X)\n",
    "    return scaled_data\n",
    "\n",
    "    #This function takes as input a numpy array and returns a stadardized numpy array of the same dimensions.\n",
    "    #Sample input: np.array([[1,2,3],[4,5,6]])\n",
    "    #Sample output: np.array([[-1,-1,-1],[1,1,1]])\n",
    "    "
   ]
  },
  {
   "cell_type": "code",
   "execution_count": 21,
   "metadata": {},
   "outputs": [
    {
     "output_type": "execute_result",
     "data": {
      "text/plain": [
       "array([[-1., -1., -1.],\n",
       "       [ 1.,  1.,  1.]])"
      ]
     },
     "metadata": {},
     "execution_count": 21
    }
   ],
   "source": [
    "standardize([[1,2,3],[4,5,6]])"
   ]
  },
  {
   "cell_type": "markdown",
   "metadata": {},
   "source": [
    "Now, use the `np.concatenate` function to combine the cats and dogs arrays. Use `axis=1` to combine the two correctly. Make sure to put dogs first."
   ]
  },
  {
   "cell_type": "code",
   "execution_count": 22,
   "metadata": {},
   "outputs": [
    {
     "output_type": "execute_result",
     "data": {
      "text/plain": [
       "array([[224, 131, 127, ...,  60, 223, 101],\n",
       "       [224, 124, 136, ...,  50, 224, 107],\n",
       "       [224, 104, 127, ...,  63, 225, 106],\n",
       "       ...,\n",
       "       [100, 104, 115, ..., 105, 180, 114],\n",
       "       [100, 124, 104, ..., 118, 182,  91],\n",
       "       [100, 124, 104, ..., 104, 177, 113]])"
      ]
     },
     "metadata": {},
     "execution_count": 22
    }
   ],
   "source": [
    "np.concatenate((dogs, cats), axis =1)\n",
    "\n"
   ]
  },
  {
   "cell_type": "code",
   "execution_count": 23,
   "metadata": {},
   "outputs": [],
   "source": [
    "catdog=np.concatenate((dogs, cats), axis =1)"
   ]
  },
  {
   "cell_type": "markdown",
   "metadata": {},
   "source": [
    "Standardize the concatenated array below."
   ]
  },
  {
   "cell_type": "code",
   "execution_count": 24,
   "metadata": {},
   "outputs": [
    {
     "output_type": "execute_result",
     "data": {
      "text/plain": [
       "array([[ 2.37662907, -0.30753004,  0.93254857, ..., -1.80817356,\n",
       "         1.42293481, -0.20363951],\n",
       "       [ 2.37662907, -0.40500299,  1.15681724, ..., -2.06459792,\n",
       "         1.44036713, -0.05437635],\n",
       "       [ 2.37662907, -0.68349716,  0.93254857, ..., -1.73124626,\n",
       "         1.45779946, -0.07925354],\n",
       "       ...,\n",
       "       [ 0.22755315, -0.68349716,  0.63352369, ..., -0.65426398,\n",
       "         0.67334483,  0.11976401],\n",
       "       [ 0.22755315, -0.40500299,  0.35941754, ..., -0.32091232,\n",
       "         0.70820948, -0.45241144],\n",
       "       [ 0.22755315, -0.40500299,  0.35941754, ..., -0.67990641,\n",
       "         0.62104786,  0.09488681]])"
      ]
     },
     "metadata": {},
     "execution_count": 24
    }
   ],
   "source": [
    "standardize(catdog)\n",
    "\n"
   ]
  },
  {
   "cell_type": "code",
   "execution_count": 25,
   "metadata": {},
   "outputs": [],
   "source": [
    "standarized=standardize(catdog)"
   ]
  },
  {
   "cell_type": "markdown",
   "metadata": {},
   "source": [
    "# Challenge 2 - Using PCA\n",
    "\n",
    "Now that we have created a standardized matrix of cats and dogs, we'll find the two most important components in the data.\n",
    "\n",
    "Load the `PCA` function from `statsmodels` (read about this function [here](https://www.statsmodels.org/dev/generated/statsmodels.multivariate.pca.PCA.html)) and apply the function to our standarized data. Create a PCA model with two components."
   ]
  },
  {
   "cell_type": "code",
   "execution_count": 27,
   "metadata": {},
   "outputs": [],
   "source": [
    "import statsmodels "
   ]
  },
  {
   "cell_type": "code",
   "execution_count": 29,
   "metadata": {},
   "outputs": [],
   "source": [
    "\n",
    "from statsmodels.multivariate.pca import PCA\n"
   ]
  },
  {
   "cell_type": "code",
   "execution_count": 30,
   "metadata": {},
   "outputs": [
    {
     "output_type": "execute_result",
     "data": {
      "text/plain": [
       "Principal Component Analysis(nobs: 4096, nvar: 160, transformation: Standardize (Correlation), normalization: True, number of components: 160, SVD, id: 0x7fc4e30193a0)"
      ]
     },
     "metadata": {},
     "execution_count": 30
    }
   ],
   "source": [
    "PCA(standarized)"
   ]
  },
  {
   "cell_type": "markdown",
   "metadata": {},
   "source": [
    "Use `numpy` to find to transpose the standardized pet array. This will help us compute the projection."
   ]
  },
  {
   "cell_type": "code",
   "execution_count": 38,
   "metadata": {},
   "outputs": [
    {
     "output_type": "execute_result",
     "data": {
      "text/plain": [
       "array([[ 2.37662907,  2.37662907,  2.37662907, ...,  0.22755315,\n",
       "         0.22755315,  0.22755315],\n",
       "       [-0.30753004, -0.40500299, -0.68349716, ..., -0.68349716,\n",
       "        -0.40500299, -0.40500299],\n",
       "       [ 0.93254857,  1.15681724,  0.93254857, ...,  0.63352369,\n",
       "         0.35941754,  0.35941754],\n",
       "       ...,\n",
       "       [-1.80817356, -2.06459792, -1.73124626, ..., -0.65426398,\n",
       "        -0.32091232, -0.67990641],\n",
       "       [ 1.42293481,  1.44036713,  1.45779946, ...,  0.67334483,\n",
       "         0.70820948,  0.62104786],\n",
       "       [-0.20363951, -0.05437635, -0.07925354, ...,  0.11976401,\n",
       "        -0.45241144,  0.09488681]])"
      ]
     },
     "metadata": {},
     "execution_count": 38
    }
   ],
   "source": [
    "np.matrix.transpose(standarized)\n"
   ]
  },
  {
   "cell_type": "code",
   "execution_count": 39,
   "metadata": {},
   "outputs": [],
   "source": [
    "t=np.matrix.transpose(standarized)"
   ]
  },
  {
   "cell_type": "code",
   "execution_count": 44,
   "metadata": {},
   "outputs": [],
   "source": [
    "from sklearn.decomposition import PCA"
   ]
  },
  {
   "cell_type": "code",
   "execution_count": 51,
   "metadata": {},
   "outputs": [],
   "source": [
    "pca = PCA(n_components=2)\n",
    "pca_trans=pca.fit_transform(standarized)"
   ]
  },
  {
   "cell_type": "code",
   "execution_count": 52,
   "metadata": {},
   "outputs": [],
   "source": [
    "pca_trans_array=np.array(pca_trans)"
   ]
  },
  {
   "cell_type": "markdown",
   "metadata": {},
   "source": [
    "Find the dot product of the transposed standardized pet matrix and the `factors` of the `PCA` model found above. This will be the projection onto 2 dimensions. This means that each cat and dog image will now only have two columns instead of 4096."
   ]
  },
  {
   "cell_type": "code",
   "execution_count": 54,
   "metadata": {},
   "outputs": [
    {
     "output_type": "execute_result",
     "data": {
      "text/plain": [
       "array([[ 14348.51405103,  -3981.25940453],\n",
       "       [ 10873.02255817,   5211.50928878],\n",
       "       [ -4378.84815531,   4874.9227131 ],\n",
       "       [  1717.00749822,   8914.44247376],\n",
       "       [ 11101.88412155,  -1114.37032362],\n",
       "       [ -2968.69187926,  12223.60196467],\n",
       "       [  7483.06185874,   3579.58801677],\n",
       "       [  4833.63686626,  10566.11825751],\n",
       "       [  4191.47421653,  10471.82413069],\n",
       "       [ 13334.74075313,   -597.04226211],\n",
       "       [   118.38405436,   9615.53046304],\n",
       "       [  7355.88394638,   4776.32947818],\n",
       "       [  2874.48856416,   4525.68874493],\n",
       "       [ -1033.48444798,   4864.29747938],\n",
       "       [  6479.84267238,   8603.5739026 ],\n",
       "       [  5938.77296379,   9088.02784104],\n",
       "       [  5412.98963047,   2248.43955667],\n",
       "       [ 13186.93812879,   5746.19289344],\n",
       "       [  6217.39388373,   7773.48509215],\n",
       "       [  5259.36313274,  12111.02631893],\n",
       "       [ -1224.55695429,   9684.24345204],\n",
       "       [   545.64306872,  10373.06580172],\n",
       "       [  3317.29728469,   4130.01539381],\n",
       "       [  4008.83803144,  11060.20403555],\n",
       "       [  9166.89844935,   8303.43490063],\n",
       "       [    76.79812426,  11712.34540482],\n",
       "       [ -1253.36448252,   7792.92150796],\n",
       "       [   301.47678773,   6195.38021906],\n",
       "       [  4596.55026414,  12812.53048936],\n",
       "       [  3279.02483786,   6686.88550118],\n",
       "       [  1618.32756684,   8292.43359536],\n",
       "       [  2496.61994075,   7304.55485978],\n",
       "       [ 10175.6853751 ,   7913.18228008],\n",
       "       [  4459.79693023,   9600.5685537 ],\n",
       "       [ -2453.70342441,  10334.52621586],\n",
       "       [  5357.58649124,   4019.74265122],\n",
       "       [ -4797.73236847,  10256.30229051],\n",
       "       [   475.3659942 ,   8548.30984586],\n",
       "       [ -2221.68604013,  11645.3638053 ],\n",
       "       [  9681.73486333,   5150.36984389],\n",
       "       [  5759.53713972,  10855.03725009],\n",
       "       [  3876.90017508,  -4513.32753051],\n",
       "       [ -3402.6878454 ,   8888.40748758],\n",
       "       [  5129.89275934,   7336.80738832],\n",
       "       [ -2722.85206074,   4363.92398743],\n",
       "       [  6834.33747836,  -6062.08337716],\n",
       "       [  8975.72405655,  -2271.50594783],\n",
       "       [  2350.51414826,   2165.33424537],\n",
       "       [  5151.3568015 ,  -3191.85523131],\n",
       "       [ -5578.66859046,   9319.56408014],\n",
       "       [  9957.5440171 ,  -2996.33694419],\n",
       "       [ 12384.19418256,  -7237.6313354 ],\n",
       "       [  2065.89278026,  -4095.95785635],\n",
       "       [ -7365.23127115,  10883.19321512],\n",
       "       [ -7290.94750663,   1344.72649977],\n",
       "       [ -4730.48411146,   1014.13396482],\n",
       "       [  9846.61153318,  -1684.8407183 ],\n",
       "       [  5013.19129828,  -3296.67976181],\n",
       "       [ -5624.15304215,   7272.0642455 ],\n",
       "       [  -699.72891085,   8205.26751055],\n",
       "       [  2615.24345947,  10581.2071427 ],\n",
       "       [ 10477.51869888,  -5809.03540415],\n",
       "       [ 10474.39334274,  -1491.34642739],\n",
       "       [ -7749.79934778,   -796.22485961],\n",
       "       [ -3611.89056156,   2412.14196329],\n",
       "       [  9229.22917557,     31.48465531],\n",
       "       [  1714.21636748,  -5943.16031216],\n",
       "       [-10885.35626655,   3089.94368387],\n",
       "       [  -777.33560307,    882.97228202],\n",
       "       [  7654.98767372,   7829.01455074],\n",
       "       [ -3583.33535525,   3181.29081102],\n",
       "       [  -340.30963337,   8636.10241061],\n",
       "       [  8924.04375934,   6849.44304724],\n",
       "       [ -7119.16652246,   6520.90323576],\n",
       "       [  3469.77550779,  -6771.4048436 ],\n",
       "       [ 13467.5378086 ,  -1589.17392536],\n",
       "       [ 11225.06247125,   2345.0592609 ],\n",
       "       [ -2797.49526279,   9367.54953081],\n",
       "       [ -1132.22315522,   8977.37837602],\n",
       "       [ 13177.99794079,   -724.34617779],\n",
       "       [ -5288.22177701,  -3846.21451688],\n",
       "       [-16785.39558894,   -276.00952267],\n",
       "       [ 16270.00999708,  -1015.14557679],\n",
       "       [ 13851.78937546,    361.36748325],\n",
       "       [-10194.47692813,  -4735.15688312],\n",
       "       [ -7049.21634693,  -8906.64222884],\n",
       "       [-13986.2125827 ,    802.51012109],\n",
       "       [ -1761.11819741,  -4594.97969003],\n",
       "       [-14309.89239928,  -2060.97171013],\n",
       "       [ -7107.81970461,  -4658.85018159],\n",
       "       [    21.97232201,  -1258.96222273],\n",
       "       [  1945.92809393,  -1193.80250407],\n",
       "       [-17497.27382019,  -2678.72020104],\n",
       "       [-10242.61550636,  -3220.40740714],\n",
       "       [  9761.44064689,  -3721.6896303 ],\n",
       "       [-13228.27945028,  -4448.4963874 ],\n",
       "       [  9780.3737856 ,  -2950.1353043 ],\n",
       "       [-11229.56450795,  -2833.97017201],\n",
       "       [ 14468.45332921,    213.89641889],\n",
       "       [-17092.00224977,  -1336.11144498],\n",
       "       [  3709.0398623 ,  -3305.85098637],\n",
       "       [-12002.49707709,    504.80268678],\n",
       "       [-11997.64932086,   3527.45769879],\n",
       "       [-11495.59262587,   8686.63530484],\n",
       "       [ 17430.58130544,  -1590.07414051],\n",
       "       [ -2377.41012015,   5857.83137471],\n",
       "       [-11805.90376687,  -4871.48093401],\n",
       "       [-10667.36566804,   4920.69289299],\n",
       "       [  7227.476213  ,   -676.75326756],\n",
       "       [ -7056.4938372 ,  -2816.9393789 ],\n",
       "       [  -827.69199164,  -4509.30568704],\n",
       "       [  4180.2280394 ,  -4176.51569603],\n",
       "       [ -6233.4825117 ,  -8005.23450314],\n",
       "       [ 17881.12657761,  -3025.221259  ],\n",
       "       [-17265.18164902,    565.43933084],\n",
       "       [ -2565.78375871,   3234.98635856],\n",
       "       [ 17052.83219535,    519.08140069],\n",
       "       [-14522.42865817,  -2136.85237283],\n",
       "       [ -7077.75138082,   5503.67324373],\n",
       "       [ -5248.87184556,  -3876.33999261],\n",
       "       [ -2473.65538621,  -5266.9797094 ],\n",
       "       [ -9167.89426663,  -4908.81851602],\n",
       "       [-18395.78577858,   3924.76653008],\n",
       "       [-10813.44119695,   5573.0407566 ],\n",
       "       [-17509.76645472,   5089.75202078],\n",
       "       [ 11302.36681476,  -4028.95273666],\n",
       "       [ 11510.07580753,   1220.12845788],\n",
       "       [  9694.41641109,  -2679.95744798],\n",
       "       [-17134.01634595,   1324.81939276],\n",
       "       [   404.94362281,  -2287.7797496 ],\n",
       "       [ -8433.06126576,  -4088.453449  ],\n",
       "       [ -5376.37057571,   3195.48591095],\n",
       "       [-15589.91317586,  -4216.6382274 ],\n",
       "       [-12168.29868942,  -3578.51141633],\n",
       "       [  6274.43801782,  -5539.79367899],\n",
       "       [-13139.25598976,  -4849.39636071],\n",
       "       [-12272.45795069,  -5969.00729676],\n",
       "       [ -6590.70321734,   2501.37597463],\n",
       "       [ 11135.50814899,  -7493.70374128],\n",
       "       [ -7340.1454877 ,   9242.91817807],\n",
       "       [  -586.75874966,    325.61939956],\n",
       "       [ -7224.10931013,  -3839.57525738],\n",
       "       [-13343.09910431,  -2831.36739203],\n",
       "       [-14208.55739624,   2966.08157147],\n",
       "       [  8477.91983964,   -645.24182109],\n",
       "       [ -2376.70330856,  -4996.24261004],\n",
       "       [ 17235.50415502,  -2079.06046743],\n",
       "       [ -1213.02142091,    110.15761822],\n",
       "       [  7514.96555715,  -1770.78909079],\n",
       "       [ 11034.7219843 ,   1242.03371761],\n",
       "       [  5308.59624704,   -975.06397419],\n",
       "       [-11831.50672305,   3244.82678258],\n",
       "       [ -3711.99451976,  -3907.36231878],\n",
       "       [   677.47332078,   1036.97386275],\n",
       "       [  3745.53821309,    178.54520873],\n",
       "       [ -9083.16433163,   5162.86617658],\n",
       "       [-11127.61792326,   6407.59408808],\n",
       "       [-15434.30448472,   3475.07565048],\n",
       "       [  5767.39021585,   1036.51685046],\n",
       "       [ -2729.02754688,  -3500.99795088]])"
      ]
     },
     "metadata": {},
     "execution_count": 54
    }
   ],
   "source": [
    "np.dot(t, pca_trans_array)\n",
    "\n"
   ]
  },
  {
   "cell_type": "markdown",
   "metadata": {},
   "source": [
    "# Challenge 3 - Plotting the Data\n",
    "\n",
    "Now that we have reduced our cats and dogs arrays, we can easily plot the data in a way that the human eye can understand. We can look at this plot to see whether there are differences between the cat and dog images. \n",
    "\n",
    "In the cell below, turn the two dimensional projection into a pandas dataframe and name the columns `pc1`, and `pc2` respectively."
   ]
  },
  {
   "cell_type": "code",
   "execution_count": 15,
   "metadata": {},
   "outputs": [],
   "source": [
    "# Your code here:\n",
    "\n"
   ]
  },
  {
   "cell_type": "markdown",
   "metadata": {},
   "source": [
    "Create a labels list. This list will be of size 160. The first 80 elements in the list will be the word `blue`, and the last 80 elements will be `red`. This will ensure that all dog observations will be colored in blue and all cats will be colored in red. Name this list `colors`."
   ]
  },
  {
   "cell_type": "code",
   "execution_count": 16,
   "metadata": {},
   "outputs": [],
   "source": [
    "# Your code here:\n",
    "\n"
   ]
  },
  {
   "cell_type": "markdown",
   "metadata": {},
   "source": [
    "Create a scatter plot of `pc1` and `pc2` below. Use the `colors` list above to color the observations by setting `c=colors`."
   ]
  },
  {
   "cell_type": "code",
   "execution_count": 17,
   "metadata": {},
   "outputs": [],
   "source": [
    "# Your code here:\n",
    "\n"
   ]
  },
  {
   "cell_type": "markdown",
   "metadata": {},
   "source": [
    "Do you see a clear separation between cats and dogs? Write your answer below."
   ]
  },
  {
   "cell_type": "code",
   "execution_count": 18,
   "metadata": {},
   "outputs": [],
   "source": [
    "# Your conclusions here:\n",
    "\n"
   ]
  },
  {
   "cell_type": "code",
   "execution_count": null,
   "metadata": {},
   "outputs": [],
   "source": []
  }
 ],
 "metadata": {
  "kernelspec": {
   "name": "python385jvsc74a57bd0e134e05457d34029b6460cd73bbf1ed73f339b5b6d98c95be70b69eba114fe95",
   "display_name": "Python 3.8.5 64-bit ('base': conda)"
  },
  "language_info": {
   "codemirror_mode": {
    "name": "ipython",
    "version": 3
   },
   "file_extension": ".py",
   "mimetype": "text/x-python",
   "name": "python",
   "nbconvert_exporter": "python",
   "pygments_lexer": "ipython3",
   "version": "3.8.5"
  },
  "metadata": {
   "interpreter": {
    "hash": "ac2eaa0ea0ebeafcc7822e65e46aa9d4f966f30b695406963e145ea4a91cd4fc"
   }
  }
 },
 "nbformat": 4,
 "nbformat_minor": 2
}